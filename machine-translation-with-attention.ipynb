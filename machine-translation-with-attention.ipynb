{
 "cells": [
  {
   "cell_type": "code",
   "execution_count": null,
   "metadata": {
    "colab": {
     "base_uri": "https://localhost:8080/"
    },
    "id": "B4pdLwud9bFL",
    "outputId": "543ac011-6e31-43ec-ab56-a194fb63b2e1"
   },
   "outputs": [
    {
     "name": "stdout",
     "output_type": "stream",
     "text": [
      "\u001b[K     |████████████████████████████████| 71kB 5.2MB/s \n",
      "\u001b[K     |████████████████████████████████| 1.1MB 8.5MB/s \n",
      "\u001b[K     |████████████████████████████████| 14.9MB 534kB/s \n",
      "\u001b[?25h  Building wheel for de-core-news-sm (setup.py) ... \u001b[?25l\u001b[?25hdone\n",
      "\u001b[38;5;2m✔ Download and installation successful\u001b[0m\n",
      "You can now load the model via spacy.load('de_core_news_sm')\n",
      "\u001b[38;5;2m✔ Linking successful\u001b[0m\n",
      "/usr/local/lib/python3.6/dist-packages/de_core_news_sm -->\n",
      "/usr/local/lib/python3.6/dist-packages/spacy/data/de\n",
      "You can now load the model via spacy.load('de')\n"
     ]
    }
   ],
   "source": [
    "!pip install torchtext==0.6.0 --quiet\n",
    "!python -m spacy download de --quiet"
   ]
  },
  {
   "cell_type": "code",
   "execution_count": null,
   "metadata": {
    "colab": {
     "base_uri": "https://localhost:8080/"
    },
    "id": "NbiMdeAP9fnd",
    "outputId": "ce1877fb-4266-497b-d547-4c120581c178"
   },
   "outputs": [
    {
     "name": "stdout",
     "output_type": "stream",
     "text": [
      "downloading training.tar.gz\n"
     ]
    },
    {
     "name": "stderr",
     "output_type": "stream",
     "text": [
      "training.tar.gz: 100%|██████████| 1.21M/1.21M [00:02<00:00, 601kB/s]\n"
     ]
    },
    {
     "name": "stdout",
     "output_type": "stream",
     "text": [
      "downloading validation.tar.gz\n"
     ]
    },
    {
     "name": "stderr",
     "output_type": "stream",
     "text": [
      "validation.tar.gz: 100%|██████████| 46.3k/46.3k [00:00<00:00, 170kB/s]\n"
     ]
    },
    {
     "name": "stdout",
     "output_type": "stream",
     "text": [
      "downloading mmt_task1_test2016.tar.gz\n"
     ]
    },
    {
     "name": "stderr",
     "output_type": "stream",
     "text": [
      "mmt_task1_test2016.tar.gz: 100%|██████████| 66.2k/66.2k [00:00<00:00, 160kB/s]\n"
     ]
    },
    {
     "name": "stdout",
     "output_type": "stream",
     "text": [
      "device: cuda\n",
      "Input German sentence: ein boot mit mehreren männern darauf wird von einem großen pferdegespann ans ufer gezogen.\n",
      "------------------[Epoch 1 / 100]-------------------------\n"
     ]
    },
    {
     "name": "stderr",
     "output_type": "stream",
     "text": [
      "\r",
      "  0%|          | 0/227 [00:00<?, ?it/s]"
     ]
    },
    {
     "name": "stdout",
     "output_type": "stream",
     "text": [
      "\n",
      "Translated Sentence: performance warrior hitching hitching scene wakeboarding beaker trashcan elementary poles looks potted scene lifts hold beds capes box kwon punch tropical welding rifle gum sand culinary letters canoe flea rolling direction practicing mature enforcement huddle community handlebars robe bucks bucks martial hispanic tourist pocket hooping stoop call parachutes container heads\n"
     ]
    },
    {
     "name": "stderr",
     "output_type": "stream",
     "text": [
      "100%|██████████| 227/227 [00:46<00:00,  4.85it/s]\n",
      "100%|██████████| 8/8 [00:00<00:00, 14.19it/s]\n"
     ]
    },
    {
     "name": "stdout",
     "output_type": "stream",
     "text": [
      "Epoch train loss: 4.237009908659343, validation loss: 3.841853529214859\n",
      "------------------[Epoch 2 / 100]-------------------------\n"
     ]
    },
    {
     "name": "stderr",
     "output_type": "stream",
     "text": [
      "\r",
      "  0%|          | 0/227 [00:00<?, ?it/s]"
     ]
    },
    {
     "name": "stdout",
     "output_type": "stream",
     "text": [
      "\n",
      "Translated Sentence: a large man with a large large large large large large large large large large large large large large large large . <eos>\n"
     ]
    },
    {
     "name": "stderr",
     "output_type": "stream",
     "text": [
      "100%|██████████| 227/227 [00:46<00:00,  4.83it/s]\n",
      "100%|██████████| 8/8 [00:00<00:00, 14.24it/s]\n"
     ]
    },
    {
     "name": "stdout",
     "output_type": "stream",
     "text": [
      "Epoch train loss: 3.1940402070856306, validation loss: 3.585077702999115\n",
      "------------------[Epoch 3 / 100]-------------------------\n"
     ]
    },
    {
     "name": "stderr",
     "output_type": "stream",
     "text": [
      "\r",
      "  0%|          | 0/227 [00:00<?, ?it/s]"
     ]
    },
    {
     "name": "stdout",
     "output_type": "stream",
     "text": [
      "\n",
      "Translated Sentence: a boat with <unk> is being pulled by by a large <unk> . <eos>\n"
     ]
    },
    {
     "name": "stderr",
     "output_type": "stream",
     "text": [
      "100%|██████████| 227/227 [00:47<00:00,  4.83it/s]\n",
      "100%|██████████| 8/8 [00:00<00:00, 14.29it/s]\n"
     ]
    },
    {
     "name": "stdout",
     "output_type": "stream",
     "text": [
      "Epoch train loss: 2.7465132690211225, validation loss: 3.50565442442894\n",
      "------------------[Epoch 4 / 100]-------------------------\n"
     ]
    },
    {
     "name": "stderr",
     "output_type": "stream",
     "text": [
      "\r",
      "  0%|          | 0/227 [00:00<?, ?it/s]"
     ]
    },
    {
     "name": "stdout",
     "output_type": "stream",
     "text": [
      "\n",
      "Translated Sentence: a boat with a large is being pulled by a large large by . <eos>\n"
     ]
    },
    {
     "name": "stderr",
     "output_type": "stream",
     "text": [
      "100%|██████████| 227/227 [00:46<00:00,  4.84it/s]\n",
      "100%|██████████| 8/8 [00:00<00:00, 14.47it/s]\n"
     ]
    },
    {
     "name": "stdout",
     "output_type": "stream",
     "text": [
      "Epoch train loss: 2.4064203001854176, validation loss: 3.483287751674652\n",
      "------------------[Epoch 5 / 100]-------------------------\n"
     ]
    },
    {
     "name": "stderr",
     "output_type": "stream",
     "text": [
      "\r",
      "  0%|          | 0/227 [00:00<?, ?it/s]"
     ]
    },
    {
     "name": "stdout",
     "output_type": "stream",
     "text": [
      "\n",
      "Translated Sentence: a boat with a pulled pulled by large large by large large by . <eos>\n"
     ]
    },
    {
     "name": "stderr",
     "output_type": "stream",
     "text": [
      "100%|██████████| 227/227 [00:47<00:00,  4.82it/s]\n",
      "100%|██████████| 8/8 [00:00<00:00, 14.33it/s]\n"
     ]
    },
    {
     "name": "stdout",
     "output_type": "stream",
     "text": [
      "Epoch train loss: 2.135926900981281, validation loss: 3.543654680252075\n",
      "------------------[Epoch 6 / 100]-------------------------\n"
     ]
    },
    {
     "name": "stderr",
     "output_type": "stream",
     "text": [
      "\r",
      "  0%|          | 0/227 [00:00<?, ?it/s]"
     ]
    },
    {
     "name": "stdout",
     "output_type": "stream",
     "text": [
      "\n",
      "Translated Sentence: a boat boat with several men pulled pulled by a large large bull . <eos>\n"
     ]
    },
    {
     "name": "stderr",
     "output_type": "stream",
     "text": [
      "100%|██████████| 227/227 [00:47<00:00,  4.83it/s]\n",
      "100%|██████████| 8/8 [00:00<00:00, 14.22it/s]\n"
     ]
    },
    {
     "name": "stdout",
     "output_type": "stream",
     "text": [
      "Epoch train loss: 1.9446191588162325, validation loss: 3.611446887254715\n",
      "------------------[Epoch 7 / 100]-------------------------\n"
     ]
    },
    {
     "name": "stderr",
     "output_type": "stream",
     "text": [
      "\r",
      "  0%|          | 0/227 [00:00<?, ?it/s]"
     ]
    },
    {
     "name": "stdout",
     "output_type": "stream",
     "text": [
      "\n",
      "Translated Sentence: a boat boat is stopped by several large <unk> by large large <unk> . <eos>\n"
     ]
    },
    {
     "name": "stderr",
     "output_type": "stream",
     "text": [
      "100%|██████████| 227/227 [00:46<00:00,  4.86it/s]\n",
      "100%|██████████| 8/8 [00:00<00:00, 14.40it/s]\n"
     ]
    },
    {
     "name": "stdout",
     "output_type": "stream",
     "text": [
      "Epoch train loss: 1.8027604104138681, validation loss: 3.622097134590149\n",
      "------------------[Epoch 8 / 100]-------------------------\n"
     ]
    },
    {
     "name": "stderr",
     "output_type": "stream",
     "text": [
      "\r",
      "  0%|          | 0/227 [00:00<?, ?it/s]"
     ]
    },
    {
     "name": "stdout",
     "output_type": "stream",
     "text": [
      "\n",
      "Translated Sentence: a boat carrying several men pulled pulled pulled by large large pulled by large pulled . <eos>\n"
     ]
    },
    {
     "name": "stderr",
     "output_type": "stream",
     "text": [
      "100%|██████████| 227/227 [00:46<00:00,  4.85it/s]\n",
      "100%|██████████| 8/8 [00:00<00:00, 14.28it/s]\n"
     ]
    },
    {
     "name": "stdout",
     "output_type": "stream",
     "text": [
      "Epoch train loss: 1.7029443049745938, validation loss: 3.7205269634723663\n",
      "------------------[Epoch 9 / 100]-------------------------\n"
     ]
    },
    {
     "name": "stderr",
     "output_type": "stream",
     "text": [
      "\r",
      "  0%|          | 0/227 [00:00<?, ?it/s]"
     ]
    },
    {
     "name": "stdout",
     "output_type": "stream",
     "text": [
      "\n",
      "Translated Sentence: a boat boat is being pulled by a large large <unk> . <eos>\n"
     ]
    },
    {
     "name": "stderr",
     "output_type": "stream",
     "text": [
      "100%|██████████| 227/227 [00:46<00:00,  4.84it/s]\n",
      "100%|██████████| 8/8 [00:00<00:00, 14.39it/s]\n"
     ]
    },
    {
     "name": "stdout",
     "output_type": "stream",
     "text": [
      "Epoch train loss: 1.606194746389263, validation loss: 3.7537343204021454\n",
      "------------------[Epoch 10 / 100]-------------------------\n"
     ]
    },
    {
     "name": "stderr",
     "output_type": "stream",
     "text": [
      "\r",
      "  0%|          | 0/227 [00:00<?, ?it/s]"
     ]
    },
    {
     "name": "stdout",
     "output_type": "stream",
     "text": [
      "\n",
      "Translated Sentence: a boat with several men pulled pulled by a large light blue bull . <eos>\n"
     ]
    },
    {
     "name": "stderr",
     "output_type": "stream",
     "text": [
      "100%|██████████| 227/227 [00:46<00:00,  4.85it/s]\n",
      "100%|██████████| 8/8 [00:00<00:00, 14.19it/s]\n"
     ]
    },
    {
     "name": "stdout",
     "output_type": "stream",
     "text": [
      "Epoch train loss: 1.5468908335668925, validation loss: 3.8717415928840637\n",
      "------------------[Epoch 11 / 100]-------------------------\n"
     ]
    },
    {
     "name": "stderr",
     "output_type": "stream",
     "text": [
      "\r",
      "  0%|          | 0/227 [00:00<?, ?it/s]"
     ]
    },
    {
     "name": "stdout",
     "output_type": "stream",
     "text": [
      "\n",
      "Translated Sentence: a boat carrying several men is pulled by a large huge by a large . <eos>\n"
     ]
    },
    {
     "name": "stderr",
     "output_type": "stream",
     "text": [
      "100%|██████████| 227/227 [00:46<00:00,  4.85it/s]\n",
      "100%|██████████| 8/8 [00:00<00:00, 14.24it/s]\n"
     ]
    },
    {
     "name": "stdout",
     "output_type": "stream",
     "text": [
      "Epoch train loss: 1.4628653387141122, validation loss: 3.928157150745392\n",
      "------------------[Epoch 12 / 100]-------------------------\n"
     ]
    },
    {
     "name": "stderr",
     "output_type": "stream",
     "text": [
      "\r",
      "  0%|          | 0/227 [00:00<?, ?it/s]"
     ]
    },
    {
     "name": "stdout",
     "output_type": "stream",
     "text": [
      "\n",
      "Translated Sentence: a boat carrying several men is pulled by several men by large gear horses . <eos>\n"
     ]
    },
    {
     "name": "stderr",
     "output_type": "stream",
     "text": [
      "100%|██████████| 227/227 [00:46<00:00,  4.84it/s]\n",
      "100%|██████████| 8/8 [00:00<00:00, 14.50it/s]\n"
     ]
    },
    {
     "name": "stdout",
     "output_type": "stream",
     "text": [
      "Epoch train loss: 1.423856809800942, validation loss: 3.9858039915561676\n",
      "------------------[Epoch 13 / 100]-------------------------\n"
     ]
    },
    {
     "name": "stderr",
     "output_type": "stream",
     "text": [
      "\r",
      "  0%|          | 0/227 [00:00<?, ?it/s]"
     ]
    },
    {
     "name": "stdout",
     "output_type": "stream",
     "text": [
      "\n",
      "Translated Sentence: a boat carrying several men is pulled several pulled by a large horses shore . <eos>\n"
     ]
    },
    {
     "name": "stderr",
     "output_type": "stream",
     "text": [
      "100%|██████████| 227/227 [00:46<00:00,  4.88it/s]\n",
      "100%|██████████| 8/8 [00:00<00:00, 14.06it/s]\n"
     ]
    },
    {
     "name": "stdout",
     "output_type": "stream",
     "text": [
      "Epoch train loss: 1.3626447960668724, validation loss: 4.1212852001190186\n",
      "------------------[Epoch 14 / 100]-------------------------\n"
     ]
    },
    {
     "name": "stderr",
     "output_type": "stream",
     "text": [
      "\r",
      "  0%|          | 0/227 [00:00<?, ?it/s]"
     ]
    },
    {
     "name": "stdout",
     "output_type": "stream",
     "text": [
      "\n",
      "Translated Sentence: a boat carrying several men is pulled by a large huge horses by horses . <eos>\n"
     ]
    },
    {
     "name": "stderr",
     "output_type": "stream",
     "text": [
      "100%|██████████| 227/227 [00:46<00:00,  4.86it/s]\n",
      "100%|██████████| 8/8 [00:00<00:00, 14.30it/s]\n"
     ]
    },
    {
     "name": "stdout",
     "output_type": "stream",
     "text": [
      "Epoch train loss: 1.3192663129730897, validation loss: 4.12006402015686\n",
      "------------------[Epoch 15 / 100]-------------------------\n"
     ]
    },
    {
     "name": "stderr",
     "output_type": "stream",
     "text": [
      "\r",
      "  0%|          | 0/227 [00:00<?, ?it/s]"
     ]
    },
    {
     "name": "stdout",
     "output_type": "stream",
     "text": [
      "\n",
      "Translated Sentence: a boat carrying several men is pulled by large by large huge shore of horses . <eos>\n"
     ]
    },
    {
     "name": "stderr",
     "output_type": "stream",
     "text": [
      "100%|██████████| 227/227 [00:46<00:00,  4.86it/s]\n",
      "100%|██████████| 8/8 [00:00<00:00, 14.47it/s]\n"
     ]
    },
    {
     "name": "stdout",
     "output_type": "stream",
     "text": [
      "Epoch train loss: 1.2843031520885517, validation loss: 4.162660479545593\n",
      "------------------[Epoch 16 / 100]-------------------------\n"
     ]
    },
    {
     "name": "stderr",
     "output_type": "stream",
     "text": [
      "\r",
      "  0%|          | 0/227 [00:00<?, ?it/s]"
     ]
    },
    {
     "name": "stdout",
     "output_type": "stream",
     "text": [
      "\n",
      "Translated Sentence: a boat carrying several men is pulled by large large of boat is pulled by large horses . <eos>\n"
     ]
    },
    {
     "name": "stderr",
     "output_type": "stream",
     "text": [
      "100%|██████████| 227/227 [00:46<00:00,  4.88it/s]\n",
      "100%|██████████| 8/8 [00:00<00:00, 14.35it/s]\n"
     ]
    },
    {
     "name": "stdout",
     "output_type": "stream",
     "text": [
      "Epoch train loss: 1.261052345126736, validation loss: 4.238131791353226\n",
      "------------------[Epoch 17 / 100]-------------------------\n"
     ]
    },
    {
     "name": "stderr",
     "output_type": "stream",
     "text": [
      "  0%|          | 1/227 [00:00<00:44,  5.11it/s]"
     ]
    },
    {
     "name": "stdout",
     "output_type": "stream",
     "text": [
      "\n",
      "Translated Sentence: a boat carrying several pulled pulled pulled pulled by a large shore of horses . <eos>\n"
     ]
    },
    {
     "name": "stderr",
     "output_type": "stream",
     "text": [
      "100%|██████████| 227/227 [00:46<00:00,  4.86it/s]\n",
      "100%|██████████| 8/8 [00:00<00:00, 14.51it/s]\n"
     ]
    },
    {
     "name": "stdout",
     "output_type": "stream",
     "text": [
      "Epoch train loss: 1.2402260363889686, validation loss: 4.301938623189926\n",
      "------------------[Epoch 18 / 100]-------------------------\n"
     ]
    },
    {
     "name": "stderr",
     "output_type": "stream",
     "text": [
      "  0%|          | 1/227 [00:00<00:42,  5.30it/s]"
     ]
    },
    {
     "name": "stdout",
     "output_type": "stream",
     "text": [
      "\n",
      "Translated Sentence: a boat with several men pulled by shore shore by large large team of horses . <eos>\n"
     ]
    },
    {
     "name": "stderr",
     "output_type": "stream",
     "text": [
      "100%|██████████| 227/227 [00:46<00:00,  4.86it/s]\n",
      "100%|██████████| 8/8 [00:00<00:00, 14.58it/s]\n"
     ]
    },
    {
     "name": "stdout",
     "output_type": "stream",
     "text": [
      "Epoch train loss: 1.212708938751977, validation loss: 4.37743154168129\n",
      "------------------[Epoch 19 / 100]-------------------------\n"
     ]
    },
    {
     "name": "stderr",
     "output_type": "stream",
     "text": [
      "\r",
      "  0%|          | 0/227 [00:00<?, ?it/s]"
     ]
    },
    {
     "name": "stdout",
     "output_type": "stream",
     "text": [
      "\n",
      "Translated Sentence: a boat with several men pulled by several large surrounded by thick horses . <eos>\n"
     ]
    },
    {
     "name": "stderr",
     "output_type": "stream",
     "text": [
      "100%|██████████| 227/227 [00:46<00:00,  4.85it/s]\n",
      "100%|██████████| 8/8 [00:00<00:00, 14.49it/s]\n"
     ]
    },
    {
     "name": "stdout",
     "output_type": "stream",
     "text": [
      "Epoch train loss: 1.1904100967398825, validation loss: 4.427570700645447\n",
      "------------------[Epoch 20 / 100]-------------------------\n"
     ]
    },
    {
     "name": "stderr",
     "output_type": "stream",
     "text": [
      "\r",
      "  0%|          | 0/227 [00:00<?, ?it/s]"
     ]
    },
    {
     "name": "stdout",
     "output_type": "stream",
     "text": [
      "\n",
      "Translated Sentence: a boat carrying several men pulled pulled several large horses by a large team horses horses horses horses horses . <eos>\n"
     ]
    },
    {
     "name": "stderr",
     "output_type": "stream",
     "text": [
      "100%|██████████| 227/227 [00:47<00:00,  4.82it/s]\n",
      "100%|██████████| 8/8 [00:00<00:00, 14.40it/s]\n"
     ]
    },
    {
     "name": "stdout",
     "output_type": "stream",
     "text": [
      "Epoch train loss: 1.1881171506932129, validation loss: 4.4372042417526245\n",
      "------------------[Epoch 21 / 100]-------------------------\n"
     ]
    },
    {
     "name": "stderr",
     "output_type": "stream",
     "text": [
      "\r",
      "  0%|          | 0/227 [00:00<?, ?it/s]"
     ]
    },
    {
     "name": "stdout",
     "output_type": "stream",
     "text": [
      "\n",
      "Translated Sentence: a boat carrying several men pulled pulled shore by a large team of horses . <eos>\n"
     ]
    },
    {
     "name": "stderr",
     "output_type": "stream",
     "text": [
      "100%|██████████| 227/227 [00:46<00:00,  4.86it/s]\n",
      "100%|██████████| 8/8 [00:00<00:00, 14.40it/s]\n"
     ]
    },
    {
     "name": "stdout",
     "output_type": "stream",
     "text": [
      "Epoch train loss: 1.1553718468691283, validation loss: 4.517575204372406\n",
      "------------------[Epoch 22 / 100]-------------------------\n"
     ]
    },
    {
     "name": "stderr",
     "output_type": "stream",
     "text": [
      "\r",
      "  0%|          | 0/227 [00:00<?, ?it/s]"
     ]
    },
    {
     "name": "stdout",
     "output_type": "stream",
     "text": [
      "\n",
      "Translated Sentence: a boat carrying several men pulled pulled several large horses by large horses . horses . <eos>\n"
     ]
    },
    {
     "name": "stderr",
     "output_type": "stream",
     "text": [
      "100%|██████████| 227/227 [00:46<00:00,  4.87it/s]\n",
      "100%|██████████| 8/8 [00:00<00:00, 14.54it/s]\n"
     ]
    },
    {
     "name": "stdout",
     "output_type": "stream",
     "text": [
      "Epoch train loss: 1.1372103977308399, validation loss: 4.592406272888184\n",
      "------------------[Epoch 23 / 100]-------------------------\n"
     ]
    },
    {
     "name": "stderr",
     "output_type": "stream",
     "text": [
      "\r",
      "  0%|          | 0/227 [00:00<?, ?it/s]"
     ]
    },
    {
     "name": "stdout",
     "output_type": "stream",
     "text": [
      "\n",
      "Translated Sentence: a boat carrying several men is pulled pulled by large large horses by a shore of horses . <eos>\n"
     ]
    },
    {
     "name": "stderr",
     "output_type": "stream",
     "text": [
      "100%|██████████| 227/227 [00:46<00:00,  4.86it/s]\n",
      "100%|██████████| 8/8 [00:00<00:00, 14.40it/s]\n"
     ]
    },
    {
     "name": "stdout",
     "output_type": "stream",
     "text": [
      "Epoch train loss: 1.1390959147839819, validation loss: 4.5941988825798035\n",
      "------------------[Epoch 24 / 100]-------------------------\n"
     ]
    },
    {
     "name": "stderr",
     "output_type": "stream",
     "text": [
      "  0%|          | 1/227 [00:00<00:35,  6.38it/s]"
     ]
    },
    {
     "name": "stdout",
     "output_type": "stream",
     "text": [
      "\n",
      "Translated Sentence: a boat carrying several men men being pulled by a large team horses horses . <eos>\n"
     ]
    },
    {
     "name": "stderr",
     "output_type": "stream",
     "text": [
      "100%|██████████| 227/227 [00:46<00:00,  4.87it/s]\n",
      "100%|██████████| 8/8 [00:00<00:00, 14.41it/s]\n"
     ]
    },
    {
     "name": "stdout",
     "output_type": "stream",
     "text": [
      "Epoch train loss: 1.1402771240551566, validation loss: 4.595947265625\n",
      "------------------[Epoch 25 / 100]-------------------------\n"
     ]
    },
    {
     "name": "stderr",
     "output_type": "stream",
     "text": [
      "\r",
      "  0%|          | 0/227 [00:00<?, ?it/s]"
     ]
    },
    {
     "name": "stdout",
     "output_type": "stream",
     "text": [
      "\n",
      "Translated Sentence: a boat with several men is pulled pulled by a large team of horses horses . horses . <eos>\n"
     ]
    },
    {
     "name": "stderr",
     "output_type": "stream",
     "text": [
      "100%|██████████| 227/227 [00:46<00:00,  4.87it/s]\n",
      "100%|██████████| 8/8 [00:00<00:00, 14.57it/s]\n"
     ]
    },
    {
     "name": "stdout",
     "output_type": "stream",
     "text": [
      "Epoch train loss: 1.109248238513123, validation loss: 4.646394610404968\n",
      "------------------[Epoch 26 / 100]-------------------------\n"
     ]
    },
    {
     "name": "stderr",
     "output_type": "stream",
     "text": [
      "  0%|          | 1/227 [00:00<00:40,  5.57it/s]"
     ]
    },
    {
     "name": "stdout",
     "output_type": "stream",
     "text": [
      "\n",
      "Translated Sentence: a boat with several men pulled pulled pulled shore of a large team horses horses . <eos>\n"
     ]
    },
    {
     "name": "stderr",
     "output_type": "stream",
     "text": [
      "100%|██████████| 227/227 [00:46<00:00,  4.87it/s]\n",
      "100%|██████████| 8/8 [00:00<00:00, 14.50it/s]\n"
     ]
    },
    {
     "name": "stdout",
     "output_type": "stream",
     "text": [
      "Epoch train loss: 1.1195968759742603, validation loss: 4.6399319767951965\n",
      "------------------[Epoch 27 / 100]-------------------------\n"
     ]
    },
    {
     "name": "stderr",
     "output_type": "stream",
     "text": [
      "\r",
      "  0%|          | 0/227 [00:00<?, ?it/s]"
     ]
    },
    {
     "name": "stdout",
     "output_type": "stream",
     "text": [
      "\n",
      "Translated Sentence: a boat carrying several men is pulled by a large team of a team . horses . <eos>\n"
     ]
    },
    {
     "name": "stderr",
     "output_type": "stream",
     "text": [
      "100%|██████████| 227/227 [00:46<00:00,  4.88it/s]\n",
      "100%|██████████| 8/8 [00:00<00:00, 14.34it/s]\n"
     ]
    },
    {
     "name": "stdout",
     "output_type": "stream",
     "text": [
      "Epoch train loss: 1.0959266564656984, validation loss: 4.715419888496399\n",
      "------------------[Epoch 28 / 100]-------------------------\n"
     ]
    },
    {
     "name": "stderr",
     "output_type": "stream",
     "text": [
      "\r",
      "  0%|          | 0/227 [00:00<?, ?it/s]"
     ]
    },
    {
     "name": "stdout",
     "output_type": "stream",
     "text": [
      "\n",
      "Translated Sentence: a boat carrying several men pulled pulled a large by a large team of horses . <eos>\n"
     ]
    },
    {
     "name": "stderr",
     "output_type": "stream",
     "text": [
      "100%|██████████| 227/227 [00:46<00:00,  4.88it/s]\n",
      "100%|██████████| 8/8 [00:00<00:00, 14.60it/s]\n"
     ]
    },
    {
     "name": "stdout",
     "output_type": "stream",
     "text": [
      "Epoch train loss: 1.0962350033715957, validation loss: 4.725359559059143\n",
      "------------------[Epoch 29 / 100]-------------------------\n"
     ]
    },
    {
     "name": "stderr",
     "output_type": "stream",
     "text": [
      "\r",
      "  0%|          | 0/227 [00:00<?, ?it/s]"
     ]
    },
    {
     "name": "stdout",
     "output_type": "stream",
     "text": [
      "\n",
      "Translated Sentence: a boat carrying several men pulled pulled pulled shore by a large team horses horses . horses . <eos>\n"
     ]
    },
    {
     "name": "stderr",
     "output_type": "stream",
     "text": [
      "100%|██████████| 227/227 [00:46<00:00,  4.89it/s]\n",
      "100%|██████████| 8/8 [00:00<00:00, 14.54it/s]\n"
     ]
    },
    {
     "name": "stdout",
     "output_type": "stream",
     "text": [
      "Epoch train loss: 1.096675813591953, validation loss: 4.7573429346084595\n",
      "------------------[Epoch 30 / 100]-------------------------\n"
     ]
    },
    {
     "name": "stderr",
     "output_type": "stream",
     "text": [
      "\r",
      "  0%|          | 0/227 [00:00<?, ?it/s]"
     ]
    },
    {
     "name": "stdout",
     "output_type": "stream",
     "text": [
      "\n",
      "Translated Sentence: a boat carrying several men pulled pulled pulled shore shore by a large team of horses . <eos>\n"
     ]
    },
    {
     "name": "stderr",
     "output_type": "stream",
     "text": [
      "100%|██████████| 227/227 [00:46<00:00,  4.88it/s]\n",
      "100%|██████████| 8/8 [00:00<00:00, 14.47it/s]\n"
     ]
    },
    {
     "name": "stdout",
     "output_type": "stream",
     "text": [
      "Epoch train loss: 1.0920380952599815, validation loss: 4.811087369918823\n",
      "------------------[Epoch 31 / 100]-------------------------\n"
     ]
    },
    {
     "name": "stderr",
     "output_type": "stream",
     "text": [
      "\r",
      "  0%|          | 0/227 [00:00<?, ?it/s]"
     ]
    },
    {
     "name": "stdout",
     "output_type": "stream",
     "text": [
      "\n",
      "Translated Sentence: a boat carrying several men pulled pulled pulled shore by a large rock horses . <eos>\n"
     ]
    },
    {
     "name": "stderr",
     "output_type": "stream",
     "text": [
      "100%|██████████| 227/227 [00:46<00:00,  4.86it/s]\n",
      "100%|██████████| 8/8 [00:00<00:00, 14.51it/s]\n"
     ]
    },
    {
     "name": "stdout",
     "output_type": "stream",
     "text": [
      "Epoch train loss: 1.099379225449415, validation loss: 4.769337475299835\n",
      "------------------[Epoch 32 / 100]-------------------------\n"
     ]
    },
    {
     "name": "stderr",
     "output_type": "stream",
     "text": [
      "\r",
      "  0%|          | 0/227 [00:00<?, ?it/s]"
     ]
    },
    {
     "name": "stdout",
     "output_type": "stream",
     "text": [
      "\n",
      "Translated Sentence: a boat carrying several men is pulled by a large team by horses horses . horses . horses . <eos>\n"
     ]
    },
    {
     "name": "stderr",
     "output_type": "stream",
     "text": [
      "100%|██████████| 227/227 [00:46<00:00,  4.90it/s]\n",
      "100%|██████████| 8/8 [00:00<00:00, 14.66it/s]\n"
     ]
    },
    {
     "name": "stdout",
     "output_type": "stream",
     "text": [
      "Epoch train loss: 1.0978675160376512, validation loss: 4.7689173221588135\n",
      "------------------[Epoch 33 / 100]-------------------------\n"
     ]
    },
    {
     "name": "stderr",
     "output_type": "stream",
     "text": [
      "\r",
      "  0%|          | 0/227 [00:00<?, ?it/s]"
     ]
    },
    {
     "name": "stdout",
     "output_type": "stream",
     "text": [
      "\n",
      "Translated Sentence: a boat carrying several men pulled pulled shore by a large men by horses shore . <eos>\n"
     ]
    },
    {
     "name": "stderr",
     "output_type": "stream",
     "text": [
      "100%|██████████| 227/227 [00:46<00:00,  4.89it/s]\n",
      "100%|██████████| 8/8 [00:00<00:00, 14.54it/s]\n"
     ]
    },
    {
     "name": "stdout",
     "output_type": "stream",
     "text": [
      "Epoch train loss: 1.0804355980803788, validation loss: 4.920206785202026\n",
      "------------------[Epoch 34 / 100]-------------------------\n"
     ]
    },
    {
     "name": "stderr",
     "output_type": "stream",
     "text": [
      "\r",
      "  0%|          | 0/227 [00:00<?, ?it/s]"
     ]
    },
    {
     "name": "stdout",
     "output_type": "stream",
     "text": [
      "\n",
      "Translated Sentence: a boat carrying several men pulled pulled pulled by a large team horses horses . horses . <eos>\n"
     ]
    },
    {
     "name": "stderr",
     "output_type": "stream",
     "text": [
      "100%|██████████| 227/227 [00:46<00:00,  4.89it/s]\n",
      "100%|██████████| 8/8 [00:00<00:00, 14.64it/s]\n"
     ]
    },
    {
     "name": "stdout",
     "output_type": "stream",
     "text": [
      "Epoch train loss: 1.091101547432366, validation loss: 4.893365502357483\n",
      "------------------[Epoch 35 / 100]-------------------------\n"
     ]
    },
    {
     "name": "stderr",
     "output_type": "stream",
     "text": [
      "  0%|          | 1/227 [00:00<00:40,  5.52it/s]"
     ]
    },
    {
     "name": "stdout",
     "output_type": "stream",
     "text": [
      "\n",
      "Translated Sentence: a boat carrying several men being pulled by a large team by horses shore . <eos>\n"
     ]
    },
    {
     "name": "stderr",
     "output_type": "stream",
     "text": [
      "100%|██████████| 227/227 [00:46<00:00,  4.89it/s]\n",
      "100%|██████████| 8/8 [00:00<00:00, 14.45it/s]\n"
     ]
    },
    {
     "name": "stdout",
     "output_type": "stream",
     "text": [
      "Epoch train loss: 1.0909972255187939, validation loss: 4.883239150047302\n",
      "------------------[Epoch 36 / 100]-------------------------\n"
     ]
    },
    {
     "name": "stderr",
     "output_type": "stream",
     "text": [
      "\r",
      "  0%|          | 0/227 [00:00<?, ?it/s]"
     ]
    },
    {
     "name": "stdout",
     "output_type": "stream",
     "text": [
      "\n",
      "Translated Sentence: a boat carrying several men pulled pulled to shore by a large team shore shore . <eos>\n"
     ]
    },
    {
     "name": "stderr",
     "output_type": "stream",
     "text": [
      "100%|██████████| 227/227 [00:46<00:00,  4.90it/s]\n",
      "100%|██████████| 8/8 [00:00<00:00, 14.48it/s]\n"
     ]
    },
    {
     "name": "stdout",
     "output_type": "stream",
     "text": [
      "Epoch train loss: 1.1004813556366555, validation loss: 4.927569329738617\n",
      "------------------[Epoch 37 / 100]-------------------------\n"
     ]
    },
    {
     "name": "stderr",
     "output_type": "stream",
     "text": [
      "\r",
      "  0%|          | 0/227 [00:00<?, ?it/s]"
     ]
    },
    {
     "name": "stdout",
     "output_type": "stream",
     "text": [
      "\n",
      "Translated Sentence: a boat carrying several men is pulled by a large team of horses . <eos>\n"
     ]
    },
    {
     "name": "stderr",
     "output_type": "stream",
     "text": [
      "100%|██████████| 227/227 [00:46<00:00,  4.88it/s]\n",
      "100%|██████████| 8/8 [00:00<00:00, 14.61it/s]\n"
     ]
    },
    {
     "name": "stdout",
     "output_type": "stream",
     "text": [
      "Epoch train loss: 1.0961450375124222, validation loss: 4.8847163915634155\n",
      "------------------[Epoch 38 / 100]-------------------------\n"
     ]
    },
    {
     "name": "stderr",
     "output_type": "stream",
     "text": [
      "\r",
      "  0%|          | 0/227 [00:00<?, ?it/s]"
     ]
    },
    {
     "name": "stdout",
     "output_type": "stream",
     "text": [
      "\n",
      "Translated Sentence: a boat carrying several men pulled pulled shore shore by large shore of horses . <eos>\n"
     ]
    },
    {
     "name": "stderr",
     "output_type": "stream",
     "text": [
      "100%|██████████| 227/227 [00:46<00:00,  4.88it/s]\n",
      "100%|██████████| 8/8 [00:00<00:00, 14.66it/s]\n"
     ]
    },
    {
     "name": "stdout",
     "output_type": "stream",
     "text": [
      "Epoch train loss: 1.0950028940969627, validation loss: 5.003767192363739\n",
      "------------------[Epoch 39 / 100]-------------------------\n"
     ]
    },
    {
     "name": "stderr",
     "output_type": "stream",
     "text": [
      "  0%|          | 1/227 [00:00<00:44,  5.07it/s]"
     ]
    },
    {
     "name": "stdout",
     "output_type": "stream",
     "text": [
      "\n",
      "Translated Sentence: a boat carrying several men pulled pulled by a large team of horses . horses . <eos>\n"
     ]
    },
    {
     "name": "stderr",
     "output_type": "stream",
     "text": [
      "100%|██████████| 227/227 [00:46<00:00,  4.87it/s]\n",
      "100%|██████████| 8/8 [00:00<00:00, 14.58it/s]\n"
     ]
    },
    {
     "name": "stdout",
     "output_type": "stream",
     "text": [
      "Epoch train loss: 1.0810873860304575, validation loss: 5.040808200836182\n",
      "------------------[Epoch 40 / 100]-------------------------\n"
     ]
    },
    {
     "name": "stderr",
     "output_type": "stream",
     "text": [
      "  0%|          | 1/227 [00:00<00:41,  5.51it/s]"
     ]
    },
    {
     "name": "stdout",
     "output_type": "stream",
     "text": [
      "\n",
      "Translated Sentence: a boat carrying several men is pulled by a large team horses horses . <eos>\n"
     ]
    },
    {
     "name": "stderr",
     "output_type": "stream",
     "text": [
      "100%|██████████| 227/227 [00:46<00:00,  4.90it/s]\n",
      "100%|██████████| 8/8 [00:00<00:00, 14.67it/s]\n"
     ]
    },
    {
     "name": "stdout",
     "output_type": "stream",
     "text": [
      "Epoch train loss: 1.0824646654370598, validation loss: 5.038479387760162\n",
      "------------------[Epoch 41 / 100]-------------------------\n"
     ]
    },
    {
     "name": "stderr",
     "output_type": "stream",
     "text": [
      "\r",
      "  0%|          | 0/227 [00:00<?, ?it/s]"
     ]
    },
    {
     "name": "stdout",
     "output_type": "stream",
     "text": [
      "\n",
      "Translated Sentence: a boat carrying several men is pulled pulled by a large team horses horses . <eos>\n"
     ]
    },
    {
     "name": "stderr",
     "output_type": "stream",
     "text": [
      "100%|██████████| 227/227 [00:46<00:00,  4.90it/s]\n",
      "100%|██████████| 8/8 [00:00<00:00, 14.67it/s]\n"
     ]
    },
    {
     "name": "stdout",
     "output_type": "stream",
     "text": [
      "Epoch train loss: 1.0962212178938189, validation loss: 5.049092650413513\n",
      "------------------[Epoch 42 / 100]-------------------------\n"
     ]
    },
    {
     "name": "stderr",
     "output_type": "stream",
     "text": [
      "\r",
      "  0%|          | 0/227 [00:00<?, ?it/s]"
     ]
    },
    {
     "name": "stdout",
     "output_type": "stream",
     "text": [
      "\n",
      "Translated Sentence: a boat carrying several men is pulled by a large thin horses by horses . <eos>\n"
     ]
    },
    {
     "name": "stderr",
     "output_type": "stream",
     "text": [
      "100%|██████████| 227/227 [00:46<00:00,  4.90it/s]\n",
      "100%|██████████| 8/8 [00:00<00:00, 14.60it/s]\n"
     ]
    },
    {
     "name": "stdout",
     "output_type": "stream",
     "text": [
      "Epoch train loss: 1.1105309116945392, validation loss: 5.015215814113617\n",
      "------------------[Epoch 43 / 100]-------------------------\n"
     ]
    },
    {
     "name": "stderr",
     "output_type": "stream",
     "text": [
      "\r",
      "  0%|          | 0/227 [00:00<?, ?it/s]"
     ]
    },
    {
     "name": "stdout",
     "output_type": "stream",
     "text": [
      "\n",
      "Translated Sentence: a boat , several men is pulled on a large shore by horses . horses . <eos>\n"
     ]
    },
    {
     "name": "stderr",
     "output_type": "stream",
     "text": [
      "100%|██████████| 227/227 [00:46<00:00,  4.87it/s]\n",
      "100%|██████████| 8/8 [00:00<00:00, 14.28it/s]\n"
     ]
    },
    {
     "name": "stdout",
     "output_type": "stream",
     "text": [
      "Epoch train loss: 1.1030757109499187, validation loss: 5.02866917848587\n",
      "------------------[Epoch 44 / 100]-------------------------\n"
     ]
    },
    {
     "name": "stderr",
     "output_type": "stream",
     "text": [
      "\r",
      "  0%|          | 0/227 [00:00<?, ?it/s]"
     ]
    },
    {
     "name": "stdout",
     "output_type": "stream",
     "text": [
      "\n",
      "Translated Sentence: a boat carrying several men pulled pulled by shore shore by shore shore horses . <eos>\n"
     ]
    },
    {
     "name": "stderr",
     "output_type": "stream",
     "text": [
      "100%|██████████| 227/227 [00:46<00:00,  4.87it/s]\n",
      "100%|██████████| 8/8 [00:00<00:00, 14.61it/s]\n"
     ]
    },
    {
     "name": "stdout",
     "output_type": "stream",
     "text": [
      "Epoch train loss: 1.0944160977911843, validation loss: 5.084948420524597\n",
      "------------------[Epoch 45 / 100]-------------------------\n"
     ]
    },
    {
     "name": "stderr",
     "output_type": "stream",
     "text": [
      "  0%|          | 1/227 [00:00<00:41,  5.49it/s]"
     ]
    },
    {
     "name": "stdout",
     "output_type": "stream",
     "text": [
      "\n",
      "Translated Sentence: a boat carrying several men pulled pulled shore by a large <unk> by horses . <eos>\n"
     ]
    },
    {
     "name": "stderr",
     "output_type": "stream",
     "text": [
      "100%|██████████| 227/227 [00:46<00:00,  4.92it/s]\n",
      "100%|██████████| 8/8 [00:00<00:00, 14.61it/s]\n"
     ]
    },
    {
     "name": "stdout",
     "output_type": "stream",
     "text": [
      "Epoch train loss: 1.10513721189835, validation loss: 5.075152516365051\n",
      "------------------[Epoch 46 / 100]-------------------------\n"
     ]
    },
    {
     "name": "stderr",
     "output_type": "stream",
     "text": [
      "\r",
      "  0%|          | 0/227 [00:00<?, ?it/s]"
     ]
    },
    {
     "name": "stdout",
     "output_type": "stream",
     "text": [
      "\n",
      "Translated Sentence: a boat carrying several men pulled pulled by a large shore of <unk> horses . <eos>\n"
     ]
    },
    {
     "name": "stderr",
     "output_type": "stream",
     "text": [
      "100%|██████████| 227/227 [00:46<00:00,  4.90it/s]\n",
      "100%|██████████| 8/8 [00:00<00:00, 14.53it/s]\n"
     ]
    },
    {
     "name": "stdout",
     "output_type": "stream",
     "text": [
      "Epoch train loss: 1.1069448180660801, validation loss: 5.103693962097168\n",
      "------------------[Epoch 47 / 100]-------------------------\n"
     ]
    },
    {
     "name": "stderr",
     "output_type": "stream",
     "text": [
      "  0%|          | 1/227 [00:00<00:43,  5.19it/s]"
     ]
    },
    {
     "name": "stdout",
     "output_type": "stream",
     "text": [
      "\n",
      "Translated Sentence: a boat carrying several men is pulled shore by a large team of horses . <eos>\n"
     ]
    },
    {
     "name": "stderr",
     "output_type": "stream",
     "text": [
      "100%|██████████| 227/227 [00:46<00:00,  4.88it/s]\n",
      "100%|██████████| 8/8 [00:00<00:00, 14.57it/s]\n"
     ]
    },
    {
     "name": "stdout",
     "output_type": "stream",
     "text": [
      "Epoch train loss: 1.1344543935706437, validation loss: 5.097441792488098\n",
      "------------------[Epoch 48 / 100]-------------------------\n"
     ]
    },
    {
     "name": "stderr",
     "output_type": "stream",
     "text": [
      "\r",
      "  0%|          | 0/227 [00:00<?, ?it/s]"
     ]
    },
    {
     "name": "stdout",
     "output_type": "stream",
     "text": [
      "\n",
      "Translated Sentence: a boat carrying several men is pulled by a large surrounded by a large shore . <eos>\n"
     ]
    },
    {
     "name": "stderr",
     "output_type": "stream",
     "text": [
      "100%|██████████| 227/227 [00:46<00:00,  4.86it/s]\n",
      "100%|██████████| 8/8 [00:00<00:00, 14.64it/s]\n"
     ]
    },
    {
     "name": "stdout",
     "output_type": "stream",
     "text": [
      "Epoch train loss: 1.109320197467762, validation loss: 5.1164379715919495\n",
      "------------------[Epoch 49 / 100]-------------------------\n"
     ]
    },
    {
     "name": "stderr",
     "output_type": "stream",
     "text": [
      "\r",
      "  0%|          | 0/227 [00:00<?, ?it/s]"
     ]
    },
    {
     "name": "stdout",
     "output_type": "stream",
     "text": [
      "\n",
      "Translated Sentence: a boat carrying several men pulled pulled shore by a large shore of horses . <eos>\n"
     ]
    },
    {
     "name": "stderr",
     "output_type": "stream",
     "text": [
      "100%|██████████| 227/227 [00:46<00:00,  4.89it/s]\n",
      "100%|██████████| 8/8 [00:00<00:00, 14.61it/s]\n"
     ]
    },
    {
     "name": "stdout",
     "output_type": "stream",
     "text": [
      "Epoch train loss: 1.125463216971721, validation loss: 5.097033321857452\n",
      "------------------[Epoch 50 / 100]-------------------------\n"
     ]
    },
    {
     "name": "stderr",
     "output_type": "stream",
     "text": [
      "\r",
      "  0%|          | 0/227 [00:00<?, ?it/s]"
     ]
    },
    {
     "name": "stdout",
     "output_type": "stream",
     "text": [
      "\n",
      "Translated Sentence: a boat carrying a boat pulled by a large <unk> horses <unk> horses . <eos>\n"
     ]
    },
    {
     "name": "stderr",
     "output_type": "stream",
     "text": [
      "100%|██████████| 227/227 [00:46<00:00,  4.87it/s]\n",
      "100%|██████████| 8/8 [00:00<00:00, 14.67it/s]\n"
     ]
    },
    {
     "name": "stdout",
     "output_type": "stream",
     "text": [
      "Epoch train loss: 1.1258584226805732, validation loss: 5.182236135005951\n",
      "------------------[Epoch 51 / 100]-------------------------\n"
     ]
    },
    {
     "name": "stderr",
     "output_type": "stream",
     "text": [
      "  0%|          | 1/227 [00:00<00:35,  6.30it/s]"
     ]
    },
    {
     "name": "stdout",
     "output_type": "stream",
     "text": [
      "\n",
      "Translated Sentence: a boat carrying several men pulled a shore shore of large <unk> horses . <eos>\n"
     ]
    },
    {
     "name": "stderr",
     "output_type": "stream",
     "text": [
      "100%|██████████| 227/227 [00:46<00:00,  4.90it/s]\n",
      "100%|██████████| 8/8 [00:00<00:00, 14.50it/s]\n"
     ]
    },
    {
     "name": "stdout",
     "output_type": "stream",
     "text": [
      "Epoch train loss: 1.135848266700291, validation loss: 5.203912079334259\n",
      "------------------[Epoch 52 / 100]-------------------------\n"
     ]
    },
    {
     "name": "stderr",
     "output_type": "stream",
     "text": [
      "\r",
      "  0%|          | 0/227 [00:00<?, ?it/s]"
     ]
    },
    {
     "name": "stdout",
     "output_type": "stream",
     "text": [
      "\n",
      "Translated Sentence: a boat carrying several men is pulled by a large team of <unk> into shore . <eos>\n"
     ]
    },
    {
     "name": "stderr",
     "output_type": "stream",
     "text": [
      "100%|██████████| 227/227 [00:46<00:00,  4.91it/s]\n",
      "100%|██████████| 8/8 [00:00<00:00, 14.63it/s]\n"
     ]
    },
    {
     "name": "stdout",
     "output_type": "stream",
     "text": [
      "Epoch train loss: 1.1274865471844107, validation loss: 5.145071268081665\n",
      "------------------[Epoch 53 / 100]-------------------------\n"
     ]
    },
    {
     "name": "stderr",
     "output_type": "stream",
     "text": [
      "\r",
      "  0%|          | 0/227 [00:00<?, ?it/s]"
     ]
    },
    {
     "name": "stdout",
     "output_type": "stream",
     "text": [
      "\n",
      "Translated Sentence: a boat carrying several men pulled pulled among a large team of <unk> team . <eos>\n"
     ]
    },
    {
     "name": "stderr",
     "output_type": "stream",
     "text": [
      "100%|██████████| 227/227 [00:46<00:00,  4.87it/s]\n",
      "100%|██████████| 8/8 [00:00<00:00, 14.71it/s]\n"
     ]
    },
    {
     "name": "stdout",
     "output_type": "stream",
     "text": [
      "Epoch train loss: 1.1197115834063895, validation loss: 5.21443384885788\n",
      "------------------[Epoch 54 / 100]-------------------------\n"
     ]
    },
    {
     "name": "stderr",
     "output_type": "stream",
     "text": [
      "\r",
      "  0%|          | 0/227 [00:00<?, ?it/s]"
     ]
    },
    {
     "name": "stdout",
     "output_type": "stream",
     "text": [
      "\n",
      "Translated Sentence: a boat carrying several men are pulled by a large team <unk> horses . <eos>\n"
     ]
    },
    {
     "name": "stderr",
     "output_type": "stream",
     "text": [
      "100%|██████████| 227/227 [00:46<00:00,  4.88it/s]\n",
      "100%|██████████| 8/8 [00:00<00:00, 14.49it/s]\n"
     ]
    },
    {
     "name": "stdout",
     "output_type": "stream",
     "text": [
      "Epoch train loss: 1.162842850853168, validation loss: 5.1572073101997375\n",
      "------------------[Epoch 55 / 100]-------------------------\n"
     ]
    },
    {
     "name": "stderr",
     "output_type": "stream",
     "text": [
      "\r",
      "  0%|          | 0/227 [00:00<?, ?it/s]"
     ]
    },
    {
     "name": "stdout",
     "output_type": "stream",
     "text": [
      "\n",
      "Translated Sentence: a boat carrying several men pulled pulled pulled pulled a large team pulled by large team . horses . <eos>\n"
     ]
    },
    {
     "name": "stderr",
     "output_type": "stream",
     "text": [
      "100%|██████████| 227/227 [00:46<00:00,  4.89it/s]\n",
      "100%|██████████| 8/8 [00:00<00:00, 14.69it/s]\n"
     ]
    },
    {
     "name": "stdout",
     "output_type": "stream",
     "text": [
      "Epoch train loss: 1.1415438452481173, validation loss: 5.252028405666351\n",
      "------------------[Epoch 56 / 100]-------------------------\n"
     ]
    },
    {
     "name": "stderr",
     "output_type": "stream",
     "text": [
      "\r",
      "  0%|          | 0/227 [00:00<?, ?it/s]"
     ]
    },
    {
     "name": "stdout",
     "output_type": "stream",
     "text": [
      "\n",
      "Translated Sentence: a boat carrying several men pulled pulled pulled shore to shore of a large shore of horses . <eos>\n"
     ]
    },
    {
     "name": "stderr",
     "output_type": "stream",
     "text": [
      "100%|██████████| 227/227 [00:46<00:00,  4.88it/s]\n",
      "100%|██████████| 8/8 [00:00<00:00, 14.53it/s]\n"
     ]
    },
    {
     "name": "stdout",
     "output_type": "stream",
     "text": [
      "Epoch train loss: 1.1551014177074517, validation loss: 5.247135281562805\n",
      "------------------[Epoch 57 / 100]-------------------------\n"
     ]
    },
    {
     "name": "stderr",
     "output_type": "stream",
     "text": [
      "\r",
      "  0%|          | 0/227 [00:00<?, ?it/s]"
     ]
    },
    {
     "name": "stdout",
     "output_type": "stream",
     "text": [
      "\n",
      "Translated Sentence: a boat carrying several men pulled pulled to shore under a large team of horses . <eos>\n"
     ]
    },
    {
     "name": "stderr",
     "output_type": "stream",
     "text": [
      "100%|██████████| 227/227 [00:46<00:00,  4.89it/s]\n",
      "100%|██████████| 8/8 [00:00<00:00, 14.70it/s]\n"
     ]
    },
    {
     "name": "stdout",
     "output_type": "stream",
     "text": [
      "Epoch train loss: 1.154462655735436, validation loss: 5.227602124214172\n",
      "------------------[Epoch 58 / 100]-------------------------\n"
     ]
    },
    {
     "name": "stderr",
     "output_type": "stream",
     "text": [
      "  0%|          | 1/227 [00:00<00:40,  5.55it/s]"
     ]
    },
    {
     "name": "stdout",
     "output_type": "stream",
     "text": [
      "\n",
      "Translated Sentence: a boat carrying several men is pulled to shore by a large team of horses . <eos>\n"
     ]
    },
    {
     "name": "stderr",
     "output_type": "stream",
     "text": [
      "100%|██████████| 227/227 [00:46<00:00,  4.88it/s]\n",
      "100%|██████████| 8/8 [00:00<00:00, 14.53it/s]\n"
     ]
    },
    {
     "name": "stdout",
     "output_type": "stream",
     "text": [
      "Epoch train loss: 1.1606449974528494, validation loss: 5.31350839138031\n",
      "------------------[Epoch 59 / 100]-------------------------\n"
     ]
    },
    {
     "name": "stderr",
     "output_type": "stream",
     "text": [
      "\r",
      "  0%|          | 0/227 [00:00<?, ?it/s]"
     ]
    },
    {
     "name": "stdout",
     "output_type": "stream",
     "text": [
      "\n",
      "Translated Sentence: a boat carrying several men is pulled to side a large large team of horses . <eos>\n"
     ]
    },
    {
     "name": "stderr",
     "output_type": "stream",
     "text": [
      "100%|██████████| 227/227 [00:46<00:00,  4.90it/s]\n",
      "100%|██████████| 8/8 [00:00<00:00, 14.44it/s]\n"
     ]
    },
    {
     "name": "stdout",
     "output_type": "stream",
     "text": [
      "Epoch train loss: 1.182676608867057, validation loss: 5.321366727352142\n",
      "------------------[Epoch 60 / 100]-------------------------\n"
     ]
    },
    {
     "name": "stderr",
     "output_type": "stream",
     "text": [
      "\r",
      "  0%|          | 0/227 [00:00<?, ?it/s]"
     ]
    },
    {
     "name": "stdout",
     "output_type": "stream",
     "text": [
      "\n",
      "Translated Sentence: a boat carrying several men pulled pulled shore shore shore shore a large team of horses . <eos>\n"
     ]
    },
    {
     "name": "stderr",
     "output_type": "stream",
     "text": [
      "100%|██████████| 227/227 [00:46<00:00,  4.89it/s]\n",
      "100%|██████████| 8/8 [00:00<00:00, 14.61it/s]\n"
     ]
    },
    {
     "name": "stdout",
     "output_type": "stream",
     "text": [
      "Epoch train loss: 1.1705470463252803, validation loss: 5.270766496658325\n",
      "------------------[Epoch 61 / 100]-------------------------\n"
     ]
    },
    {
     "name": "stderr",
     "output_type": "stream",
     "text": [
      "\r",
      "  0%|          | 0/227 [00:00<?, ?it/s]"
     ]
    },
    {
     "name": "stdout",
     "output_type": "stream",
     "text": [
      "\n",
      "Translated Sentence: a boat carrying several men pulled pulled shore by a large shore of horses . <eos>\n"
     ]
    },
    {
     "name": "stderr",
     "output_type": "stream",
     "text": [
      "100%|██████████| 227/227 [00:46<00:00,  4.87it/s]\n",
      "100%|██████████| 8/8 [00:00<00:00, 14.08it/s]\n"
     ]
    },
    {
     "name": "stdout",
     "output_type": "stream",
     "text": [
      "Epoch train loss: 1.2005644403890365, validation loss: 5.325989186763763\n",
      "------------------[Epoch 62 / 100]-------------------------\n"
     ]
    },
    {
     "name": "stderr",
     "output_type": "stream",
     "text": [
      "\r",
      "  0%|          | 0/227 [00:00<?, ?it/s]"
     ]
    },
    {
     "name": "stdout",
     "output_type": "stream",
     "text": [
      "\n",
      "Translated Sentence: a boat carrying several men being pulled on a large shore of horses . <eos>\n"
     ]
    },
    {
     "name": "stderr",
     "output_type": "stream",
     "text": [
      "100%|██████████| 227/227 [00:46<00:00,  4.90it/s]\n",
      "100%|██████████| 8/8 [00:00<00:00, 14.49it/s]\n"
     ]
    },
    {
     "name": "stdout",
     "output_type": "stream",
     "text": [
      "Epoch train loss: 1.1740035191506542, validation loss: 5.271634817123413\n",
      "------------------[Epoch 63 / 100]-------------------------\n"
     ]
    },
    {
     "name": "stderr",
     "output_type": "stream",
     "text": [
      "\r",
      "  0%|          | 0/227 [00:00<?, ?it/s]"
     ]
    },
    {
     "name": "stdout",
     "output_type": "stream",
     "text": [
      "\n",
      "Translated Sentence: a boat carrying several men is pulled across a large pulled by a large team horses . horses . <eos>\n"
     ]
    },
    {
     "name": "stderr",
     "output_type": "stream",
     "text": [
      "100%|██████████| 227/227 [00:46<00:00,  4.87it/s]\n",
      "100%|██████████| 8/8 [00:00<00:00, 14.60it/s]\n"
     ]
    },
    {
     "name": "stdout",
     "output_type": "stream",
     "text": [
      "Epoch train loss: 1.190905399522067, validation loss: 5.238613188266754\n",
      "------------------[Epoch 64 / 100]-------------------------\n"
     ]
    },
    {
     "name": "stderr",
     "output_type": "stream",
     "text": [
      "\r",
      "  0%|          | 0/227 [00:00<?, ?it/s]"
     ]
    },
    {
     "name": "stdout",
     "output_type": "stream",
     "text": [
      "\n",
      "Translated Sentence: a boat carrying men men on a boat pulled pulled by a large team of horses . <eos>\n"
     ]
    },
    {
     "name": "stderr",
     "output_type": "stream",
     "text": [
      "100%|██████████| 227/227 [00:46<00:00,  4.89it/s]\n",
      "100%|██████████| 8/8 [00:00<00:00, 14.54it/s]\n"
     ]
    },
    {
     "name": "stdout",
     "output_type": "stream",
     "text": [
      "Epoch train loss: 1.2022753733370273, validation loss: 5.3235010504722595\n",
      "------------------[Epoch 65 / 100]-------------------------\n"
     ]
    },
    {
     "name": "stderr",
     "output_type": "stream",
     "text": [
      "  0%|          | 1/227 [00:00<00:44,  5.03it/s]"
     ]
    },
    {
     "name": "stdout",
     "output_type": "stream",
     "text": [
      "\n",
      "Translated Sentence: a boat carrying several men is pulled pulled pulled by a large team bull horses . <eos>\n"
     ]
    },
    {
     "name": "stderr",
     "output_type": "stream",
     "text": [
      "100%|██████████| 227/227 [00:46<00:00,  4.90it/s]\n",
      "100%|██████████| 8/8 [00:00<00:00, 14.57it/s]\n"
     ]
    },
    {
     "name": "stdout",
     "output_type": "stream",
     "text": [
      "Epoch train loss: 1.222696613372685, validation loss: 5.235345840454102\n",
      "------------------[Epoch 66 / 100]-------------------------\n"
     ]
    },
    {
     "name": "stderr",
     "output_type": "stream",
     "text": [
      "\r",
      "  0%|          | 0/227 [00:00<?, ?it/s]"
     ]
    },
    {
     "name": "stdout",
     "output_type": "stream",
     "text": [
      "\n",
      "Translated Sentence: a boat carrying several men pulled pulled pulled pulled pulled pulled pulled pulled shore shore shore shore . <eos>\n"
     ]
    },
    {
     "name": "stderr",
     "output_type": "stream",
     "text": [
      "100%|██████████| 227/227 [00:46<00:00,  4.89it/s]\n",
      "100%|██████████| 8/8 [00:00<00:00, 14.52it/s]\n"
     ]
    },
    {
     "name": "stdout",
     "output_type": "stream",
     "text": [
      "Epoch train loss: 1.199169853710393, validation loss: 5.301711738109589\n",
      "------------------[Epoch 67 / 100]-------------------------\n"
     ]
    },
    {
     "name": "stderr",
     "output_type": "stream",
     "text": [
      "  0%|          | 1/227 [00:00<00:43,  5.25it/s]"
     ]
    },
    {
     "name": "stdout",
     "output_type": "stream",
     "text": [
      "\n",
      "Translated Sentence: a boat carrying several men is pulled pulled pulled by a large shore of horses . <eos>\n"
     ]
    },
    {
     "name": "stderr",
     "output_type": "stream",
     "text": [
      "100%|██████████| 227/227 [00:46<00:00,  4.89it/s]\n",
      "100%|██████████| 8/8 [00:00<00:00, 14.52it/s]\n"
     ]
    },
    {
     "name": "stdout",
     "output_type": "stream",
     "text": [
      "Epoch train loss: 1.2433791950935835, validation loss: 5.27741402387619\n",
      "------------------[Epoch 68 / 100]-------------------------\n"
     ]
    },
    {
     "name": "stderr",
     "output_type": "stream",
     "text": [
      "\r",
      "  0%|          | 0/227 [00:00<?, ?it/s]"
     ]
    },
    {
     "name": "stdout",
     "output_type": "stream",
     "text": [
      "\n",
      "Translated Sentence: a boat carrying several men is pulled pulled by a large large , <unk> pulled horses . <eos>\n"
     ]
    },
    {
     "name": "stderr",
     "output_type": "stream",
     "text": [
      "100%|██████████| 227/227 [00:46<00:00,  4.91it/s]\n",
      "100%|██████████| 8/8 [00:00<00:00, 14.67it/s]\n"
     ]
    },
    {
     "name": "stdout",
     "output_type": "stream",
     "text": [
      "Epoch train loss: 1.2227017418666033, validation loss: 5.2326884269714355\n",
      "------------------[Epoch 69 / 100]-------------------------\n"
     ]
    },
    {
     "name": "stderr",
     "output_type": "stream",
     "text": [
      "  0%|          | 1/227 [00:00<00:41,  5.50it/s]"
     ]
    },
    {
     "name": "stdout",
     "output_type": "stream",
     "text": [
      "\n",
      "Translated Sentence: a boat carrying several men is pulled by a large large , surrounded by large team . <eos>\n"
     ]
    },
    {
     "name": "stderr",
     "output_type": "stream",
     "text": [
      "100%|██████████| 227/227 [00:46<00:00,  4.90it/s]\n",
      "100%|██████████| 8/8 [00:00<00:00, 14.48it/s]\n"
     ]
    },
    {
     "name": "stdout",
     "output_type": "stream",
     "text": [
      "Epoch train loss: 1.2162214853690059, validation loss: 5.202661752700806\n",
      "------------------[Epoch 70 / 100]-------------------------\n"
     ]
    },
    {
     "name": "stderr",
     "output_type": "stream",
     "text": [
      "\r",
      "  0%|          | 0/227 [00:00<?, ?it/s]"
     ]
    },
    {
     "name": "stdout",
     "output_type": "stream",
     "text": [
      "\n",
      "Translated Sentence: a boat carrying several men is pulled by a large large horses by horses . <eos>\n"
     ]
    },
    {
     "name": "stderr",
     "output_type": "stream",
     "text": [
      "100%|██████████| 227/227 [00:46<00:00,  4.91it/s]\n",
      "100%|██████████| 8/8 [00:00<00:00, 14.61it/s]\n"
     ]
    },
    {
     "name": "stdout",
     "output_type": "stream",
     "text": [
      "Epoch train loss: 1.2398639373842315, validation loss: 5.353457391262054\n",
      "------------------[Epoch 71 / 100]-------------------------\n"
     ]
    },
    {
     "name": "stderr",
     "output_type": "stream",
     "text": [
      "  0%|          | 1/227 [00:00<00:39,  5.77it/s]"
     ]
    },
    {
     "name": "stdout",
     "output_type": "stream",
     "text": [
      "\n",
      "Translated Sentence: a boat carrying several men is pulled pulled by a large team <unk> pulled horses . <eos>\n"
     ]
    },
    {
     "name": "stderr",
     "output_type": "stream",
     "text": [
      "100%|██████████| 227/227 [00:46<00:00,  4.89it/s]\n",
      "100%|██████████| 8/8 [00:00<00:00, 14.50it/s]\n"
     ]
    },
    {
     "name": "stdout",
     "output_type": "stream",
     "text": [
      "Epoch train loss: 1.228083721078965, validation loss: 5.346641778945923\n",
      "------------------[Epoch 72 / 100]-------------------------\n"
     ]
    },
    {
     "name": "stderr",
     "output_type": "stream",
     "text": [
      "\r",
      "  0%|          | 0/227 [00:00<?, ?it/s]"
     ]
    },
    {
     "name": "stdout",
     "output_type": "stream",
     "text": [
      "\n",
      "Translated Sentence: a dead carrying several men is pulled by a large large pulled by horses . <eos>\n"
     ]
    },
    {
     "name": "stderr",
     "output_type": "stream",
     "text": [
      "100%|██████████| 227/227 [00:46<00:00,  4.90it/s]\n",
      "100%|██████████| 8/8 [00:00<00:00, 14.56it/s]\n"
     ]
    },
    {
     "name": "stdout",
     "output_type": "stream",
     "text": [
      "Epoch train loss: 1.2442896177065006, validation loss: 5.303154349327087\n",
      "------------------[Epoch 73 / 100]-------------------------\n"
     ]
    },
    {
     "name": "stderr",
     "output_type": "stream",
     "text": [
      "\r",
      "  0%|          | 0/227 [00:00<?, ?it/s]"
     ]
    },
    {
     "name": "stdout",
     "output_type": "stream",
     "text": [
      "\n",
      "Translated Sentence: a boat carrying several men is pulled across shore shore by large large shore . <eos>\n"
     ]
    },
    {
     "name": "stderr",
     "output_type": "stream",
     "text": [
      "100%|██████████| 227/227 [00:46<00:00,  4.90it/s]\n",
      "100%|██████████| 8/8 [00:00<00:00, 14.50it/s]\n"
     ]
    },
    {
     "name": "stdout",
     "output_type": "stream",
     "text": [
      "Epoch train loss: 1.2538564570149662, validation loss: 5.32256817817688\n",
      "------------------[Epoch 74 / 100]-------------------------\n"
     ]
    },
    {
     "name": "stderr",
     "output_type": "stream",
     "text": [
      "\r",
      "  0%|          | 0/227 [00:00<?, ?it/s]"
     ]
    },
    {
     "name": "stdout",
     "output_type": "stream",
     "text": [
      "\n",
      "Translated Sentence: a boat carrying several <unk> pulled pulled on a large <unk> by a large shore of four horses . <eos>\n"
     ]
    },
    {
     "name": "stderr",
     "output_type": "stream",
     "text": [
      "100%|██████████| 227/227 [00:46<00:00,  4.89it/s]\n",
      "100%|██████████| 8/8 [00:00<00:00, 14.49it/s]\n"
     ]
    },
    {
     "name": "stdout",
     "output_type": "stream",
     "text": [
      "Epoch train loss: 1.2717492315212535, validation loss: 5.318570137023926\n",
      "------------------[Epoch 75 / 100]-------------------------\n"
     ]
    },
    {
     "name": "stderr",
     "output_type": "stream",
     "text": [
      "\r",
      "  0%|          | 0/227 [00:00<?, ?it/s]"
     ]
    },
    {
     "name": "stdout",
     "output_type": "stream",
     "text": [
      "\n",
      "Translated Sentence: a boat carrying several men is pulled by a large <unk> by large large team . <eos>\n"
     ]
    },
    {
     "name": "stderr",
     "output_type": "stream",
     "text": [
      "100%|██████████| 227/227 [00:46<00:00,  4.87it/s]\n",
      "100%|██████████| 8/8 [00:00<00:00, 14.51it/s]\n"
     ]
    },
    {
     "name": "stdout",
     "output_type": "stream",
     "text": [
      "Epoch train loss: 1.2705092585034308, validation loss: 5.3379294872283936\n",
      "------------------[Epoch 76 / 100]-------------------------\n"
     ]
    },
    {
     "name": "stderr",
     "output_type": "stream",
     "text": [
      "  0%|          | 1/227 [00:00<00:43,  5.15it/s]"
     ]
    },
    {
     "name": "stdout",
     "output_type": "stream",
     "text": [
      "\n",
      "Translated Sentence: a boat carrying several men is pulled by a large wave . <eos>\n"
     ]
    },
    {
     "name": "stderr",
     "output_type": "stream",
     "text": [
      "100%|██████████| 227/227 [00:46<00:00,  4.87it/s]\n",
      "100%|██████████| 8/8 [00:00<00:00, 14.65it/s]\n"
     ]
    },
    {
     "name": "stdout",
     "output_type": "stream",
     "text": [
      "Epoch train loss: 1.2832949466117154, validation loss: 5.2577685713768005\n",
      "------------------[Epoch 77 / 100]-------------------------\n"
     ]
    },
    {
     "name": "stderr",
     "output_type": "stream",
     "text": [
      "\r",
      "  0%|          | 0/227 [00:00<?, ?it/s]"
     ]
    },
    {
     "name": "stdout",
     "output_type": "stream",
     "text": [
      "\n",
      "Translated Sentence: a boat carrying several men is pulled by a large team by a large four horses . <eos>\n"
     ]
    },
    {
     "name": "stderr",
     "output_type": "stream",
     "text": [
      "100%|██████████| 227/227 [00:46<00:00,  4.89it/s]\n",
      "100%|██████████| 8/8 [00:00<00:00, 14.57it/s]\n"
     ]
    },
    {
     "name": "stdout",
     "output_type": "stream",
     "text": [
      "Epoch train loss: 1.2830671468495272, validation loss: 5.313945114612579\n",
      "------------------[Epoch 78 / 100]-------------------------\n"
     ]
    },
    {
     "name": "stderr",
     "output_type": "stream",
     "text": [
      "\r",
      "  0%|          | 0/227 [00:00<?, ?it/s]"
     ]
    },
    {
     "name": "stdout",
     "output_type": "stream",
     "text": [
      "\n",
      "Translated Sentence: a boat carrying several men are pulled by shore shore by large four shore . <eos>\n"
     ]
    },
    {
     "name": "stderr",
     "output_type": "stream",
     "text": [
      "100%|██████████| 227/227 [00:46<00:00,  4.89it/s]\n",
      "100%|██████████| 8/8 [00:00<00:00, 14.47it/s]\n"
     ]
    },
    {
     "name": "stdout",
     "output_type": "stream",
     "text": [
      "Epoch train loss: 1.3169701193922942, validation loss: 5.235820710659027\n",
      "------------------[Epoch 79 / 100]-------------------------\n"
     ]
    },
    {
     "name": "stderr",
     "output_type": "stream",
     "text": [
      "  0%|          | 1/227 [00:00<00:42,  5.27it/s]"
     ]
    },
    {
     "name": "stdout",
     "output_type": "stream",
     "text": [
      "\n",
      "Translated Sentence: a boat carrying several men is pulled by a large piece of horses . <eos>\n"
     ]
    },
    {
     "name": "stderr",
     "output_type": "stream",
     "text": [
      "100%|██████████| 227/227 [00:46<00:00,  4.88it/s]\n",
      "100%|██████████| 8/8 [00:00<00:00, 14.59it/s]\n"
     ]
    },
    {
     "name": "stdout",
     "output_type": "stream",
     "text": [
      "Epoch train loss: 1.2721485466684013, validation loss: 5.351002097129822\n",
      "------------------[Epoch 80 / 100]-------------------------\n"
     ]
    },
    {
     "name": "stderr",
     "output_type": "stream",
     "text": [
      "\r",
      "  0%|          | 0/227 [00:00<?, ?it/s]"
     ]
    },
    {
     "name": "stdout",
     "output_type": "stream",
     "text": [
      "\n",
      "Translated Sentence: a boat carrying several men is being pulled by shore shore by shore shore shore . <eos>\n"
     ]
    },
    {
     "name": "stderr",
     "output_type": "stream",
     "text": [
      "100%|██████████| 227/227 [00:46<00:00,  4.89it/s]\n",
      "100%|██████████| 8/8 [00:00<00:00, 14.51it/s]\n"
     ]
    },
    {
     "name": "stdout",
     "output_type": "stream",
     "text": [
      "Epoch train loss: 1.298548641708979, validation loss: 5.328642189502716\n",
      "------------------[Epoch 81 / 100]-------------------------\n"
     ]
    },
    {
     "name": "stderr",
     "output_type": "stream",
     "text": [
      "\r",
      "  0%|          | 0/227 [00:00<?, ?it/s]"
     ]
    },
    {
     "name": "stdout",
     "output_type": "stream",
     "text": [
      "\n",
      "Translated Sentence: a boat carrying several men are shore shore shore shore shore by a large team bull horses . <eos>\n"
     ]
    },
    {
     "name": "stderr",
     "output_type": "stream",
     "text": [
      "100%|██████████| 227/227 [00:46<00:00,  4.89it/s]\n",
      "100%|██████████| 8/8 [00:00<00:00, 14.68it/s]\n"
     ]
    },
    {
     "name": "stdout",
     "output_type": "stream",
     "text": [
      "Epoch train loss: 1.326190643373565, validation loss: 5.334073841571808\n",
      "------------------[Epoch 82 / 100]-------------------------\n"
     ]
    },
    {
     "name": "stderr",
     "output_type": "stream",
     "text": [
      "\r",
      "  0%|          | 0/227 [00:00<?, ?it/s]"
     ]
    },
    {
     "name": "stdout",
     "output_type": "stream",
     "text": [
      "\n",
      "Translated Sentence: a boat carrying several men is pulled to shore shore by a large team of horses . <eos>\n"
     ]
    },
    {
     "name": "stderr",
     "output_type": "stream",
     "text": [
      "100%|██████████| 227/227 [00:46<00:00,  4.89it/s]\n",
      "100%|██████████| 8/8 [00:00<00:00, 14.28it/s]\n"
     ]
    },
    {
     "name": "stdout",
     "output_type": "stream",
     "text": [
      "Epoch train loss: 1.3443584253084293, validation loss: 5.301956355571747\n",
      "------------------[Epoch 83 / 100]-------------------------\n"
     ]
    },
    {
     "name": "stderr",
     "output_type": "stream",
     "text": [
      "\r",
      "  0%|          | 0/227 [00:00<?, ?it/s]"
     ]
    },
    {
     "name": "stdout",
     "output_type": "stream",
     "text": [
      "\n",
      "Translated Sentence: a boat carrying several men is pulled on a large shore by a shore shore . <eos>\n"
     ]
    },
    {
     "name": "stderr",
     "output_type": "stream",
     "text": [
      "100%|██████████| 227/227 [00:46<00:00,  4.88it/s]\n",
      "100%|██████████| 8/8 [00:00<00:00, 14.71it/s]\n"
     ]
    },
    {
     "name": "stdout",
     "output_type": "stream",
     "text": [
      "Epoch train loss: 1.334054741302776, validation loss: 5.3481764793396\n",
      "------------------[Epoch 84 / 100]-------------------------\n"
     ]
    },
    {
     "name": "stderr",
     "output_type": "stream",
     "text": [
      "  0%|          | 1/227 [00:00<00:40,  5.55it/s]"
     ]
    },
    {
     "name": "stdout",
     "output_type": "stream",
     "text": [
      "\n",
      "Translated Sentence: a boat with several men is pulled pulled by a large shore by a shore . <eos>\n"
     ]
    },
    {
     "name": "stderr",
     "output_type": "stream",
     "text": [
      "100%|██████████| 227/227 [00:46<00:00,  4.89it/s]\n",
      "100%|██████████| 8/8 [00:00<00:00, 14.50it/s]\n"
     ]
    },
    {
     "name": "stdout",
     "output_type": "stream",
     "text": [
      "Epoch train loss: 1.3342507927953409, validation loss: 5.325065732002258\n",
      "------------------[Epoch 85 / 100]-------------------------\n"
     ]
    },
    {
     "name": "stderr",
     "output_type": "stream",
     "text": [
      "\r",
      "  0%|          | 0/227 [00:00<?, ?it/s]"
     ]
    },
    {
     "name": "stdout",
     "output_type": "stream",
     "text": [
      "\n",
      "Translated Sentence: a boat boat several men on pulled pulled shore shore by a large team of horses . <eos>\n"
     ]
    },
    {
     "name": "stderr",
     "output_type": "stream",
     "text": [
      "100%|██████████| 227/227 [00:46<00:00,  4.89it/s]\n",
      "100%|██████████| 8/8 [00:00<00:00, 14.75it/s]\n"
     ]
    },
    {
     "name": "stdout",
     "output_type": "stream",
     "text": [
      "Epoch train loss: 1.3504955734450386, validation loss: 5.338131129741669\n",
      "------------------[Epoch 86 / 100]-------------------------\n"
     ]
    },
    {
     "name": "stderr",
     "output_type": "stream",
     "text": [
      "\r",
      "  0%|          | 0/227 [00:00<?, ?it/s]"
     ]
    },
    {
     "name": "stdout",
     "output_type": "stream",
     "text": [
      "\n",
      "Translated Sentence: a boat boat several men is pulled to shore pulled by shore shore by shore shore . <eos>\n"
     ]
    },
    {
     "name": "stderr",
     "output_type": "stream",
     "text": [
      "100%|██████████| 227/227 [00:46<00:00,  4.88it/s]\n",
      "100%|██████████| 8/8 [00:00<00:00, 14.65it/s]\n"
     ]
    },
    {
     "name": "stdout",
     "output_type": "stream",
     "text": [
      "Epoch train loss: 1.329173563598011, validation loss: 5.386118233203888\n",
      "------------------[Epoch 87 / 100]-------------------------\n"
     ]
    },
    {
     "name": "stderr",
     "output_type": "stream",
     "text": [
      "  0%|          | 1/227 [00:00<00:40,  5.64it/s]"
     ]
    },
    {
     "name": "stdout",
     "output_type": "stream",
     "text": [
      "\n",
      "Translated Sentence: a boat carrying several people on pulled to shore from a large large large ocean tent . <eos>\n"
     ]
    },
    {
     "name": "stderr",
     "output_type": "stream",
     "text": [
      "100%|██████████| 227/227 [00:46<00:00,  4.90it/s]\n",
      "100%|██████████| 8/8 [00:00<00:00, 14.69it/s]\n"
     ]
    },
    {
     "name": "stdout",
     "output_type": "stream",
     "text": [
      "Epoch train loss: 1.3496152285962377, validation loss: 5.318230867385864\n",
      "------------------[Epoch 88 / 100]-------------------------\n"
     ]
    },
    {
     "name": "stderr",
     "output_type": "stream",
     "text": [
      "  0%|          | 1/227 [00:00<00:41,  5.46it/s]"
     ]
    },
    {
     "name": "stdout",
     "output_type": "stream",
     "text": [
      "\n",
      "Translated Sentence: a boat boat several men is pulled on shore shore by a large concrete - uniformed horses . <eos>\n"
     ]
    },
    {
     "name": "stderr",
     "output_type": "stream",
     "text": [
      "100%|██████████| 227/227 [00:46<00:00,  4.90it/s]\n",
      "100%|██████████| 8/8 [00:00<00:00, 14.46it/s]\n"
     ]
    },
    {
     "name": "stdout",
     "output_type": "stream",
     "text": [
      "Epoch train loss: 1.3634043590612874, validation loss: 5.309980809688568\n",
      "------------------[Epoch 89 / 100]-------------------------\n"
     ]
    },
    {
     "name": "stderr",
     "output_type": "stream",
     "text": [
      "\r",
      "  0%|          | 0/227 [00:00<?, ?it/s]"
     ]
    },
    {
     "name": "stdout",
     "output_type": "stream",
     "text": [
      "\n",
      "Translated Sentence: a boat with several men is pulled on a large team of horses by a large shore . <eos>\n"
     ]
    },
    {
     "name": "stderr",
     "output_type": "stream",
     "text": [
      "100%|██████████| 227/227 [00:46<00:00,  4.89it/s]\n",
      "100%|██████████| 8/8 [00:00<00:00, 14.46it/s]\n"
     ]
    },
    {
     "name": "stdout",
     "output_type": "stream",
     "text": [
      "Epoch train loss: 1.3746110623628558, validation loss: 5.337335765361786\n",
      "------------------[Epoch 90 / 100]-------------------------\n"
     ]
    },
    {
     "name": "stderr",
     "output_type": "stream",
     "text": [
      "\r",
      "  0%|          | 0/227 [00:00<?, ?it/s]"
     ]
    },
    {
     "name": "stdout",
     "output_type": "stream",
     "text": [
      "\n",
      "Translated Sentence: a boat with several men pulled pulled by shore shore by a large team of horses . <eos>\n"
     ]
    },
    {
     "name": "stderr",
     "output_type": "stream",
     "text": [
      "100%|██████████| 227/227 [00:46<00:00,  4.87it/s]\n",
      "100%|██████████| 8/8 [00:00<00:00, 14.51it/s]\n"
     ]
    },
    {
     "name": "stdout",
     "output_type": "stream",
     "text": [
      "Epoch train loss: 1.374202818597466, validation loss: 5.303067922592163\n",
      "------------------[Epoch 91 / 100]-------------------------\n"
     ]
    },
    {
     "name": "stderr",
     "output_type": "stream",
     "text": [
      "  0%|          | 1/227 [00:00<00:42,  5.27it/s]"
     ]
    },
    {
     "name": "stdout",
     "output_type": "stream",
     "text": [
      "\n",
      "Translated Sentence: a boat with several men is pulled by shore shore by horses shore by shore shore . <eos>\n"
     ]
    },
    {
     "name": "stderr",
     "output_type": "stream",
     "text": [
      "100%|██████████| 227/227 [00:46<00:00,  4.88it/s]\n",
      "100%|██████████| 8/8 [00:00<00:00, 14.60it/s]\n"
     ]
    },
    {
     "name": "stdout",
     "output_type": "stream",
     "text": [
      "Epoch train loss: 1.384022171539357, validation loss: 5.3729453682899475\n",
      "------------------[Epoch 92 / 100]-------------------------\n"
     ]
    },
    {
     "name": "stderr",
     "output_type": "stream",
     "text": [
      "\r",
      "  0%|          | 0/227 [00:00<?, ?it/s]"
     ]
    },
    {
     "name": "stdout",
     "output_type": "stream",
     "text": [
      "\n",
      "Translated Sentence: a boat boat on large maroon pulled by a shore of water by horses . <eos>\n"
     ]
    },
    {
     "name": "stderr",
     "output_type": "stream",
     "text": [
      "100%|██████████| 227/227 [00:46<00:00,  4.87it/s]\n",
      "100%|██████████| 8/8 [00:00<00:00, 14.46it/s]\n"
     ]
    },
    {
     "name": "stdout",
     "output_type": "stream",
     "text": [
      "Epoch train loss: 1.386940636823881, validation loss: 5.360694944858551\n",
      "------------------[Epoch 93 / 100]-------------------------\n"
     ]
    },
    {
     "name": "stderr",
     "output_type": "stream",
     "text": [
      "\r",
      "  0%|          | 0/227 [00:00<?, ?it/s]"
     ]
    },
    {
     "name": "stdout",
     "output_type": "stream",
     "text": [
      "\n",
      "Translated Sentence: a boat boat on several men being pulled by shore shore by large shore of horses . <eos>\n"
     ]
    },
    {
     "name": "stderr",
     "output_type": "stream",
     "text": [
      "100%|██████████| 227/227 [00:46<00:00,  4.88it/s]\n",
      "100%|██████████| 8/8 [00:00<00:00, 14.32it/s]\n"
     ]
    },
    {
     "name": "stdout",
     "output_type": "stream",
     "text": [
      "Epoch train loss: 1.4028736746783823, validation loss: 5.36626935005188\n",
      "------------------[Epoch 94 / 100]-------------------------\n"
     ]
    },
    {
     "name": "stderr",
     "output_type": "stream",
     "text": [
      "\r",
      "  0%|          | 0/227 [00:00<?, ?it/s]"
     ]
    },
    {
     "name": "stdout",
     "output_type": "stream",
     "text": [
      "\n",
      "Translated Sentence: a boat boat on a boat pulled shore shore shore by large large team . horses . <eos>\n"
     ]
    },
    {
     "name": "stderr",
     "output_type": "stream",
     "text": [
      "100%|██████████| 227/227 [00:46<00:00,  4.86it/s]\n",
      "100%|██████████| 8/8 [00:00<00:00, 14.63it/s]\n"
     ]
    },
    {
     "name": "stdout",
     "output_type": "stream",
     "text": [
      "Epoch train loss: 1.4123633018149153, validation loss: 5.354026913642883\n",
      "------------------[Epoch 95 / 100]-------------------------\n"
     ]
    },
    {
     "name": "stderr",
     "output_type": "stream",
     "text": [
      "\r",
      "  0%|          | 0/227 [00:00<?, ?it/s]"
     ]
    },
    {
     "name": "stdout",
     "output_type": "stream",
     "text": [
      "\n",
      "Translated Sentence: a boat boat men men pulled by a large wave by large large wave . <eos>\n"
     ]
    },
    {
     "name": "stderr",
     "output_type": "stream",
     "text": [
      "100%|██████████| 227/227 [00:46<00:00,  4.88it/s]\n",
      "100%|██████████| 8/8 [00:00<00:00, 14.46it/s]\n"
     ]
    },
    {
     "name": "stdout",
     "output_type": "stream",
     "text": [
      "Epoch train loss: 1.4258233781428065, validation loss: 5.370530426502228\n",
      "------------------[Epoch 96 / 100]-------------------------\n"
     ]
    },
    {
     "name": "stderr",
     "output_type": "stream",
     "text": [
      "\r",
      "  0%|          | 0/227 [00:00<?, ?it/s]"
     ]
    },
    {
     "name": "stdout",
     "output_type": "stream",
     "text": [
      "\n",
      "Translated Sentence: a boat carrying men men pulled on shore shore by a large large shore . <eos>\n"
     ]
    },
    {
     "name": "stderr",
     "output_type": "stream",
     "text": [
      "100%|██████████| 227/227 [00:46<00:00,  4.90it/s]\n",
      "100%|██████████| 8/8 [00:00<00:00, 14.48it/s]\n"
     ]
    },
    {
     "name": "stdout",
     "output_type": "stream",
     "text": [
      "Epoch train loss: 1.4745892110375056, validation loss: 5.38311892747879\n",
      "------------------[Epoch 97 / 100]-------------------------\n"
     ]
    },
    {
     "name": "stderr",
     "output_type": "stream",
     "text": [
      "\r",
      "  0%|          | 0/227 [00:00<?, ?it/s]"
     ]
    },
    {
     "name": "stdout",
     "output_type": "stream",
     "text": [
      "\n",
      "Translated Sentence: a boat boat bags passengers is pulled by a large wave by large local shore . <eos>\n"
     ]
    },
    {
     "name": "stderr",
     "output_type": "stream",
     "text": [
      "100%|██████████| 227/227 [00:46<00:00,  4.88it/s]\n",
      "100%|██████████| 8/8 [00:00<00:00, 14.51it/s]\n"
     ]
    },
    {
     "name": "stdout",
     "output_type": "stream",
     "text": [
      "Epoch train loss: 1.4401219649987074, validation loss: 5.432589828968048\n",
      "------------------[Epoch 98 / 100]-------------------------\n"
     ]
    },
    {
     "name": "stderr",
     "output_type": "stream",
     "text": [
      "\r",
      "  0%|          | 0/227 [00:00<?, ?it/s]"
     ]
    },
    {
     "name": "stdout",
     "output_type": "stream",
     "text": [
      "\n",
      "Translated Sentence: a boat boat several men approach being pulled by a large large rock wave . <eos>\n"
     ]
    },
    {
     "name": "stderr",
     "output_type": "stream",
     "text": [
      "100%|██████████| 227/227 [00:46<00:00,  4.90it/s]\n",
      "100%|██████████| 8/8 [00:00<00:00, 14.53it/s]\n"
     ]
    },
    {
     "name": "stdout",
     "output_type": "stream",
     "text": [
      "Epoch train loss: 1.453535073654242, validation loss: 5.363078355789185\n",
      "------------------[Epoch 99 / 100]-------------------------\n"
     ]
    },
    {
     "name": "stderr",
     "output_type": "stream",
     "text": [
      "\r",
      "  0%|          | 0/227 [00:00<?, ?it/s]"
     ]
    },
    {
     "name": "stdout",
     "output_type": "stream",
     "text": [
      "\n",
      "Translated Sentence: a boat is carrying several men pulled pulled by a large shore by his local shore . <eos>\n"
     ]
    },
    {
     "name": "stderr",
     "output_type": "stream",
     "text": [
      "100%|██████████| 227/227 [00:46<00:00,  4.86it/s]\n",
      "100%|██████████| 8/8 [00:00<00:00, 14.63it/s]\n"
     ]
    },
    {
     "name": "stdout",
     "output_type": "stream",
     "text": [
      "Epoch train loss: 1.4595771571087943, validation loss: 5.35418438911438\n",
      "------------------[Epoch 100 / 100]-------------------------\n"
     ]
    },
    {
     "name": "stderr",
     "output_type": "stream",
     "text": [
      "\r",
      "  0%|          | 0/227 [00:00<?, ?it/s]"
     ]
    },
    {
     "name": "stdout",
     "output_type": "stream",
     "text": [
      "\n",
      "Translated Sentence: a boat boat rowing men is pulled by a large maroon shore by large shore . <eos>\n"
     ]
    },
    {
     "name": "stderr",
     "output_type": "stream",
     "text": [
      "100%|██████████| 227/227 [00:46<00:00,  4.90it/s]\n",
      "100%|██████████| 8/8 [00:00<00:00, 14.50it/s]\n"
     ]
    },
    {
     "name": "stdout",
     "output_type": "stream",
     "text": [
      "Epoch train loss: 1.486231567576068, validation loss: 5.374042212963104\n",
      "Bleu score: 21.702828189568592\n"
     ]
    }
   ],
   "source": [
    "import torch\n",
    "import torch.nn as nn\n",
    "import torch.optim as optim\n",
    "from torchtext.datasets import Multi30k\n",
    "from torchtext.data import Field, BucketIterator\n",
    "import spacy\n",
    "import random\n",
    "from tqdm import tqdm\n",
    "from torchtext.data.metrics import bleu_score\n",
    "\n",
    "\n",
    "class Encoder(nn.Module):\n",
    "    def __init__(self, enc_input_size, enc_embed_size, enc_hidden_size, num_layers, dec_hidden_size, dropout):\n",
    "        super(Encoder, self).__init__()\n",
    "        self.embedding = nn.Embedding(enc_input_size, enc_embed_size)\n",
    "        self.dropout = nn.Dropout(p=dropout)\n",
    "        self.rnn = nn.GRU(enc_embed_size, enc_hidden_size, num_layers, bidirectional=True)\n",
    "        self.fc = nn.Linear(enc_hidden_size*2, dec_hidden_size)\n",
    "\n",
    "    def forward(self, x):\n",
    "        embeddings = self.embedding(x)\n",
    "        embeddings_d = self.dropout(embeddings)\n",
    "\n",
    "        output_states, hidden = self.rnn(embeddings_d)\n",
    "\n",
    "        # hidden is stacked [forward 1, backward 1, f2, b2,........forward_last, backward_last]\n",
    "        forward_last = hidden[0:1, :, :]\n",
    "        backward_last = hidden[1:2, :, :]\n",
    "\n",
    "        combined_last_hidden = torch.cat((forward_last, backward_last), dim=2)\n",
    "\n",
    "        last_hidden_to_be_fed_to_decoder = self.fc(combined_last_hidden)\n",
    "\n",
    "        return output_states, last_hidden_to_be_fed_to_decoder\n",
    "\n",
    "\n",
    "class Decoder(nn.Module):\n",
    "    def __init__(self, dec_input_size, dec_embed_size, enc_hidden_size, dec_hidden_size, num_layers, target_size, dropout):\n",
    "        super(Decoder, self).__init__()\n",
    "        self.target_size = target_size\n",
    "        self.embedding = nn.Embedding(dec_input_size, dec_embed_size)\n",
    "        self.dropout = nn.Dropout(p=dropout)\n",
    "        self.energy = nn.Linear(enc_hidden_size * 2 + dec_hidden_size, 1)\n",
    "        self.relu = nn.ReLU()\n",
    "        self.softmax = nn.Softmax(dim=0)\n",
    "        self.rnn = nn.GRU(enc_hidden_size*2 + dec_embed_size, dec_hidden_size, num_layers)\n",
    "        self.fc = nn.Linear(dec_hidden_size, target_size)\n",
    "\n",
    "    def forward(self, dec_input, dec_hidden_state, encoder_states):\n",
    "        src_seq_length = encoder_states.shape[0]\n",
    "\n",
    "        dec_input = dec_input.unsqueeze(0)\n",
    "        dec_embeddings = self.embedding(dec_input)\n",
    "        dec_embeddings_d = self.dropout(dec_embeddings)\n",
    "\n",
    "        dec_hidden_state_reshaped = dec_hidden_state.repeat(src_seq_length, 1, 1)\n",
    "\n",
    "        energy = self.relu(self.energy(torch.cat((dec_hidden_state_reshaped, encoder_states), dim=2)))\n",
    "\n",
    "        attention_weights = self.softmax(energy)\n",
    "\n",
    "        context_vector = torch.einsum(\"snk,snl->knl\", attention_weights, encoder_states)\n",
    "\n",
    "        rnn_input = torch.cat((context_vector, dec_embeddings_d), dim=2)\n",
    "\n",
    "        dec_output, dec_next_hidden_state = self.rnn(rnn_input, dec_hidden_state)\n",
    "\n",
    "        predictions = self.fc(dec_output).squeeze(0)\n",
    "\n",
    "        return predictions, dec_next_hidden_state\n",
    "\n",
    "\n",
    "class Seq2Seq(nn.Module):\n",
    "    def __init__(self, encoder, decoder, device):\n",
    "        super(Seq2Seq, self).__init__()\n",
    "        self.encoder = encoder\n",
    "        self.decoder = decoder\n",
    "        self.device = device\n",
    "\n",
    "    def forward(self, src, trg, teacher_force_ratio=0.5):\n",
    "        batch_size = src.shape[1]\n",
    "        trg_len = trg.shape[0]\n",
    "        trg_vocab_size = self.decoder.target_size\n",
    "\n",
    "        out_states, hidden = self.encoder(src)\n",
    "\n",
    "        outputs = torch.zeros(trg_len, batch_size, trg_vocab_size).to(self.device)\n",
    "\n",
    "        x = trg[0, :]\n",
    "\n",
    "        for t in range(1, trg_len):\n",
    "            out, hidden = self.decoder(x, hidden, out_states)\n",
    "            best_guess = out.argmax(1)\n",
    "\n",
    "            outputs[t] = out\n",
    "\n",
    "            x = trg[t] if random.random() < teacher_force_ratio else best_guess\n",
    "\n",
    "        return outputs\n",
    "\n",
    "\n",
    "def train(model, iterator, optimizer, criterion, clip, device):\n",
    "    model.train()\n",
    "    epoch_loss = 0\n",
    "\n",
    "    for _, batch in tqdm(enumerate(iterator), total=len(iterator)):\n",
    "\n",
    "        inp = batch.src.to(device)\n",
    "        trg = batch.trg.to(device)\n",
    "\n",
    "        outs = model(inp, trg)\n",
    "        outs = outs[1:].reshape(-1, outs.shape[2])\n",
    "\n",
    "        trg = trg[1:].reshape(-1)\n",
    "\n",
    "        optimizer.zero_grad()\n",
    "\n",
    "        loss = criterion(outs, trg)\n",
    "        loss.backward()\n",
    "\n",
    "        torch.nn.utils.clip_grad_norm_(model.parameters(), max_norm=clip)\n",
    "\n",
    "        optimizer.step()\n",
    "\n",
    "        epoch_loss += loss.item()\n",
    "\n",
    "    return epoch_loss / len(iterator)\n",
    "\n",
    "\n",
    "def evaluate(model, iterator, criterion, device):\n",
    "    model.eval()\n",
    "    epoch_loss = 0\n",
    "\n",
    "    with torch.no_grad():\n",
    "\n",
    "        for _, batch in tqdm(enumerate(iterator), total=len(iterator)):\n",
    "            inp_data = batch.src.to(device)\n",
    "            target = batch.trg.to(device)\n",
    "\n",
    "            output = model(inp_data, target, teacher_force_ratio= 0)  # turn off teacher force\n",
    "\n",
    "            output = output[1:].reshape(-1, output.shape[2])\n",
    "            target = target[1:].reshape(-1)\n",
    "\n",
    "            loss = criterion(output, target)\n",
    "\n",
    "            epoch_loss += loss.item()\n",
    "\n",
    "    return epoch_loss / len(iterator)\n",
    "\n",
    "\n",
    "def translate_sentence(model, sentence, SRC, TRG, device, max_length=50):\n",
    "    spacy_ger = spacy.load(\"de\")\n",
    "\n",
    "    # Create tokens using spacy and everything in lower case (which is what our vocab is)\n",
    "    if type(sentence) == str:\n",
    "        tokens = [token.text.lower() for token in spacy_ger(sentence)]\n",
    "    else:\n",
    "        tokens = [token.lower() for token in sentence]\n",
    "\n",
    "    # Add <SOS> and <EOS> in beginning and end respectively\n",
    "    tokens.insert(0, SRC.init_token)\n",
    "    tokens.append(SRC.eos_token)\n",
    "\n",
    "    # Go through each german token and convert to an index\n",
    "    text_to_indices = [SRC.vocab.stoi[token] for token in tokens]\n",
    "\n",
    "    # Convert to Tensor\n",
    "    sentence_tensor = torch.LongTensor(text_to_indices).unsqueeze(1).to(device)\n",
    "\n",
    "    # Build encoder hidden, cell state\n",
    "    with torch.no_grad():\n",
    "        out_states, hidden = model.encoder(sentence_tensor)\n",
    "\n",
    "    outputs = [TRG.vocab.stoi[\"<sos>\"]]\n",
    "\n",
    "    for _ in range(max_length):\n",
    "        previous_word = torch.LongTensor([outputs[-1]]).to(device)\n",
    "\n",
    "        with torch.no_grad():\n",
    "            output, hidden = model.decoder(previous_word, hidden, out_states)\n",
    "            best_guess = output.argmax(1).item()\n",
    "\n",
    "        outputs.append(best_guess)\n",
    "\n",
    "        # Model predicts it's the end of the sentence\n",
    "        if output.argmax(1).item() == TRG.vocab.stoi[\"<eos>\"]:\n",
    "            break\n",
    "\n",
    "    translated_sentence = [TRG.vocab.itos[idx] for idx in outputs]\n",
    "\n",
    "    # remove start token\n",
    "    return translated_sentence[1:]\n",
    "\n",
    "\n",
    "def bleu(data, model, SRC, TRG, device):\n",
    "    targets = []\n",
    "    outputs = []\n",
    "\n",
    "    for example in data:\n",
    "        src = vars(example)[\"src\"]\n",
    "        trg = vars(example)[\"trg\"]\n",
    "\n",
    "        prediction = translate_sentence(model, src, SRC, TRG, device)\n",
    "        prediction = prediction[:-1]  # remove <eos> token\n",
    "        outputs.append(prediction)\n",
    "\n",
    "        targets.append([trg])\n",
    "\n",
    "    return bleu_score(outputs, targets)\n",
    "\n",
    "\n",
    "if __name__ == \"__main__\":\n",
    "\n",
    "    SRC_ger = Field(tokenize='spacy', tokenizer_language='de', lower=True, init_token=\"<sos>\", eos_token=\"<eos>\")\n",
    "    TRG_eng = Field(tokenize='spacy', tokenizer_language='en', lower=True, init_token=\"<sos>\", eos_token=\"<eos>\")\n",
    "\n",
    "    train_data, valid_data, test_data = Multi30k.splits(exts=(\".de\", \".en\"), fields=(SRC_ger, TRG_eng))\n",
    "\n",
    "    SRC_ger.build_vocab(train_data, max_size=10000, min_freq=2)\n",
    "    TRG_eng.build_vocab(train_data, max_size=10000, min_freq=2)\n",
    "\n",
    "    # print(SRC_ger.vocab.stoi), print(TRG_eng.vocab.stoi)\n",
    "\n",
    "    num_epochs = 100\n",
    "    learning_rate = 0.001\n",
    "    batch_size = 128\n",
    "    device = torch.device(\"cuda\" if torch.cuda.is_available() else \"cpu\")\n",
    "    print('device:',device)\n",
    "    input_size_encoder = len(SRC_ger.vocab)\n",
    "    input_size_decoder = len(TRG_eng.vocab)\n",
    "    output_size = len(TRG_eng.vocab)\n",
    "    encoder_embedding_size = 300\n",
    "    decoder_embedding_size = 300\n",
    "    enc_hidden_size = dec_hidden_size = 1024  # Needs to be the same for both encoder and decoder RNNs\n",
    "    num_layers = 1\n",
    "    enc_dropout = 0.5\n",
    "    dec_dropout = 0.5\n",
    "    sort_key = lambda x: len(x.src)\n",
    "    pad_idx = TRG_eng.vocab.stoi[\"<pad>\"]\n",
    "    sentence = \"ein boot mit mehreren männern darauf wird von einem großen pferdegespann ans ufer gezogen.\"\n",
    "\n",
    "    train_iterator, valid_iterator, test_iterator = BucketIterator.splits(\n",
    "        (train_data, valid_data, test_data),\n",
    "        batch_size=batch_size,\n",
    "        sort_within_batch=True,\n",
    "        sort_key=sort_key,\n",
    "        device=device,\n",
    "    )\n",
    "\n",
    "    encoder_net = Encoder(input_size_encoder, encoder_embedding_size, enc_hidden_size,\n",
    "                          num_layers, dec_hidden_size, enc_dropout).to(device)\n",
    "\n",
    "    decoder_net = Decoder(input_size_decoder, decoder_embedding_size, enc_hidden_size, dec_hidden_size,\n",
    "                          num_layers, output_size, dec_dropout).to(device)\n",
    "\n",
    "    model = Seq2Seq(encoder_net, decoder_net, device).to(device)\n",
    "\n",
    "    optimizer = optim.Adam(model.parameters(), lr=learning_rate)\n",
    "\n",
    "    criterion = nn.CrossEntropyLoss(ignore_index=pad_idx)\n",
    "    \n",
    "    print('Input German sentence:', sentence)\n",
    "\n",
    "    for epoch in range(num_epochs):\n",
    "        print(f\"------------------[Epoch {epoch + 1} / {num_epochs}]-------------------------\")\n",
    "\n",
    "        translated_sentence = translate_sentence(model, sentence, SRC_ger, TRG_eng, device, max_length=50)\n",
    "        print('\\nTranslated Sentence:', ' '.join(translated_sentence))\n",
    "\n",
    "        train_loss = train(model, train_iterator, optimizer, criterion, clip=0.5, device=device)\n",
    "        val_loss = evaluate(model, valid_iterator, criterion, device=device)\n",
    "\n",
    "        print(f'Epoch train loss: {train_loss}, validation loss: {val_loss}')\n",
    "\n",
    "        if (epoch + 1) % 19 == 0:\n",
    "            save_path = f'/content/drive/My Drive/Jovian/mt/epoch{epoch + 1}.pth'\n",
    "            torch.save(model, save_path)\n",
    "\n",
    "    save_path = f'/content/drive/My Drive/Jovian/mt/final_attention.pth'\n",
    "    torch.save(model, save_path)\n",
    "    score = bleu(test_data[1:100], model, SRC_ger, TRG_eng, device)\n",
    "    print(f\"Bleu score: {score * 100}\")"
   ]
  },
  {
   "cell_type": "code",
   "execution_count": 1,
   "metadata": {
    "id": "axy-IY9P99KI"
   },
   "outputs": [
    {
     "data": {
      "application/javascript": [
       "window.require && require([\"base/js/namespace\"],function(Jupyter){Jupyter.notebook.save_checkpoint()})"
      ],
      "text/plain": [
       "<IPython.core.display.Javascript object>"
      ]
     },
     "metadata": {},
     "output_type": "display_data"
    },
    {
     "name": "stdout",
     "output_type": "stream",
     "text": [
      "[jovian] Attempting to save notebook..\n",
      "[jovian] Please enter your API key ( from https://jovian.ai/ ):\n",
      "API KEY: ········\n",
      "[jovian] Creating a new project \"gitrohitjain/machine-translation-with-attention\"\n",
      "[jovian] Uploading notebook..\n",
      "[jovian] Capturing environment..\n"
     ]
    },
    {
     "name": "stderr",
     "output_type": "stream",
     "text": [
      "[jovian] Error: Failed to read Anaconda environment using command: \"conda env export -n base --no-builds\"\r\n"
     ]
    },
    {
     "name": "stdout",
     "output_type": "stream",
     "text": [
      "[jovian] Committed successfully! https://jovian.ai/gitrohitjain/machine-translation-with-attention\r\n"
     ]
    },
    {
     "data": {
      "text/plain": [
       "'https://jovian.ai/gitrohitjain/machine-translation-with-attention'"
      ]
     },
     "execution_count": 1,
     "metadata": {},
     "output_type": "execute_result"
    }
   ],
   "source": [
    "import jovian\n",
    "jovian.commit(project='machine-translation-with-attention')"
   ]
  },
  {
   "cell_type": "code",
   "execution_count": null,
   "metadata": {},
   "outputs": [],
   "source": []
  }
 ],
 "metadata": {
  "accelerator": "GPU",
  "colab": {
   "collapsed_sections": [],
   "name": "mt-attention.ipynb",
   "provenance": []
  },
  "kernelspec": {
   "display_name": "Python 3",
   "language": "python",
   "name": "python3"
  },
  "language_info": {
   "codemirror_mode": {
    "name": "ipython",
    "version": 3
   },
   "file_extension": ".py",
   "mimetype": "text/x-python",
   "name": "python",
   "nbconvert_exporter": "python",
   "pygments_lexer": "ipython3",
   "version": "3.8.5"
  }
 },
 "nbformat": 4,
 "nbformat_minor": 1
}
